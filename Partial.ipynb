{
 "cells": [
  {
   "cell_type": "markdown",
   "metadata": {
    "nbpresent": {
     "id": "3df53aa4-6bc1-4cb9-ae96-7d9e0ed94ab0"
    },
    "slideshow": {
     "slide_type": "slide"
    }
   },
   "source": [
    "# Map-reduce type operations"
   ]
  },
  {
   "cell_type": "code",
   "execution_count": 70,
   "metadata": {
    "collapsed": true,
    "nbpresent": {
     "id": "c8ad0fe8-3ac5-4e22-bbd2-c461463506ca"
    },
    "slideshow": {
     "slide_type": "skip"
    }
   },
   "outputs": [],
   "source": [
    "import pprint\n",
    "from functools import partial\n",
    "import numpy as np"
   ]
  },
  {
   "cell_type": "code",
   "execution_count": 71,
   "metadata": {
    "collapsed": true,
    "nbpresent": {
     "id": "5ba92a77-8e3a-4ee6-92e3-84855511220d"
    },
    "slideshow": {
     "slide_type": "slide"
    }
   },
   "outputs": [],
   "source": [
    "data = np.random.randn(5)\n",
    "h = { 'x': 1, 'y': 10, 'flim': 100, 'flam': 1000, 'foo': 1e5 }\n",
    "\n",
    "def complicated_function(field, x, y, flim, flam, foo):\n",
    "    return np.sum((field, x, y, flim, flam)) / foo"
   ]
  },
  {
   "cell_type": "code",
   "execution_count": 72,
   "metadata": {
    "collapsed": false,
    "nbpresent": {
     "id": "67b90009-9220-4813-b49b-b576136ce7a9"
    },
    "slideshow": {
     "slide_type": "fragment"
    }
   },
   "outputs": [
    {
     "name": "stdout",
     "output_type": "stream",
     "text": [
      "Oops! That didn't work.\n"
     ]
    }
   ],
   "source": [
    "# door 1\n",
    "try:\n",
    "    new_data = map(complicated_function, data) # doesn't work!\n",
    "    list(new_data)\n",
    "except Exception as e:\n",
    "    print(\"Oops! That didn't work.\")"
   ]
  },
  {
   "cell_type": "code",
   "execution_count": 73,
   "metadata": {
    "collapsed": false,
    "nbpresent": {
     "id": "626c86ca-cc9d-4d98-8aef-b6f61cf780f0"
    },
    "slideshow": {
     "slide_type": "slide"
    }
   },
   "outputs": [
    {
     "data": {
      "text/plain": [
       "[0.011117855565115006,\n",
       " 0.011126473422785671,\n",
       " 0.011090272343825841,\n",
       " 0.011098345393296936,\n",
       " 0.011126237298225599]"
      ]
     },
     "execution_count": 73,
     "metadata": {},
     "output_type": "execute_result"
    }
   ],
   "source": [
    "# door 2\n",
    "new_data = map(lambda a: complicated_function(a, **h), data) # ugly!\n",
    "list(new_data)"
   ]
  },
  {
   "cell_type": "code",
   "execution_count": 74,
   "metadata": {
    "collapsed": false,
    "nbpresent": {
     "id": "f770da7a-fdfa-4652-ae6f-467194e64b4c"
    },
    "slideshow": {
     "slide_type": "fragment"
    }
   },
   "outputs": [
    {
     "data": {
      "text/plain": [
       "[0.011117855565115006,\n",
       " 0.011126473422785671,\n",
       " 0.011090272343825841,\n",
       " 0.011098345393296936,\n",
       " 0.011126237298225599]"
      ]
     },
     "execution_count": 74,
     "metadata": {},
     "output_type": "execute_result"
    }
   ],
   "source": [
    "# door 3\n",
    "does_the_right_thing = partial(complicated_function, **h)\n",
    "new_data = map(does_the_right_thing, data) # works and it's readable!\n",
    "list(new_data)"
   ]
  },
  {
   "cell_type": "markdown",
   "metadata": {
    "nbpresent": {
     "id": "d769edf3-d2c3-4c51-b2ae-1b3d7f181a67"
    },
    "slideshow": {
     "slide_type": "slide"
    }
   },
   "source": [
    "# operators all have functional equivalents"
   ]
  },
  {
   "cell_type": "code",
   "execution_count": 75,
   "metadata": {
    "collapsed": true,
    "nbpresent": {
     "id": "bcbc3869-76e5-4ab5-9582-b255b33a5ac9"
    },
    "slideshow": {
     "slide_type": "fragment"
    }
   },
   "outputs": [],
   "source": [
    "from operator import add, mul, truediv, floordiv\n",
    "from functools import reduce"
   ]
  },
  {
   "cell_type": "code",
   "execution_count": 76,
   "metadata": {
    "collapsed": false,
    "nbpresent": {
     "id": "cf89cdb9-c254-4b0b-8ce0-01797b63c5a9"
    },
    "slideshow": {
     "slide_type": "fragment"
    }
   },
   "outputs": [
    {
     "name": "stdout",
     "output_type": "stream",
     "text": [
      "6\n"
     ]
    }
   ],
   "source": [
    "print(reduce(lambda a, b: a * b, [1, 2, 3]))"
   ]
  },
  {
   "cell_type": "code",
   "execution_count": 77,
   "metadata": {
    "collapsed": false,
    "nbpresent": {
     "id": "61ae5307-5502-4657-89c5-dda61375decd"
    },
    "scrolled": true,
    "slideshow": {
     "slide_type": "fragment"
    }
   },
   "outputs": [
    {
     "name": "stdout",
     "output_type": "stream",
     "text": [
      "6\n"
     ]
    }
   ],
   "source": [
    "print(reduce(mul, [1, 2, 3]))"
   ]
  },
  {
   "cell_type": "markdown",
   "metadata": {
    "collapsed": true,
    "nbpresent": {
     "id": "5e021261-fc1a-4e54-8e55-e267541bf61a"
    },
    "slideshow": {
     "slide_type": "slide"
    }
   },
   "source": [
    "# (And a quick reminder)\n",
    "\n",
    "## lambda \\*args: *f* (\\*args) <==> *f*"
   ]
  },
  {
   "cell_type": "code",
   "execution_count": 78,
   "metadata": {
    "collapsed": false,
    "nbpresent": {
     "id": "baf5f06d-9005-47b6-adcd-49a5b9e69428"
    },
    "slideshow": {
     "slide_type": "fragment"
    }
   },
   "outputs": [
    {
     "name": "stdout",
     "output_type": "stream",
     "text": [
      "[1, 4, 9]\n"
     ]
    }
   ],
   "source": [
    "def f(x):\n",
    "    return x**2\n",
    "\n",
    "print(list(map(lambda x: f(x), [1,2,3])))"
   ]
  },
  {
   "cell_type": "code",
   "execution_count": 79,
   "metadata": {
    "collapsed": false,
    "nbpresent": {
     "id": "2ab64593-ad62-47cb-b1e4-7f037b610f22"
    },
    "scrolled": true,
    "slideshow": {
     "slide_type": "fragment"
    }
   },
   "outputs": [
    {
     "name": "stdout",
     "output_type": "stream",
     "text": [
      "[1, 4, 9]\n"
     ]
    }
   ],
   "source": [
    "print(list(map(f, [1,2,3])))"
   ]
  },
  {
   "cell_type": "markdown",
   "metadata": {
    "nbpresent": {
     "id": "742ea1ce-a765-4e3b-bce1-8100c7c11456"
    },
    "slideshow": {
     "slide_type": "slide"
    }
   },
   "source": [
    "# Takeaways"
   ]
  },
  {
   "cell_type": "markdown",
   "metadata": {
    "nbpresent": {
     "id": "42e26e9a-b3b5-4c5e-a057-a56e564fd206"
    },
    "slideshow": {
     "slide_type": "fragment"
    }
   },
   "source": [
    "### Lambdas should be readable\n",
    "* if they aren't, what to use instead?"
   ]
  },
  {
   "cell_type": "markdown",
   "metadata": {
    "nbpresent": {
     "id": "98332b46-82af-4092-993f-f11cf9be78f1"
    },
    "slideshow": {
     "slide_type": "fragment"
    }
   },
   "source": [
    "### Use partial to freeze parts of a function"
   ]
  },
  {
   "cell_type": "markdown",
   "metadata": {
    "nbpresent": {
     "id": "9592badb-b337-4aab-8801-0085e5476241"
    },
    "slideshow": {
     "slide_type": "fragment"
    }
   },
   "source": [
    "### Use named functions (like operator.mul) whenever possible"
   ]
  },
  {
   "cell_type": "markdown",
   "metadata": {
    "nbpresent": {
     "id": "d54d2f29-1566-471a-827b-62b9e27f97f5"
    },
    "slideshow": {
     "slide_type": "slide"
    }
   },
   "source": [
    "# DIY NLP"
   ]
  },
  {
   "cell_type": "code",
   "execution_count": 80,
   "metadata": {
    "collapsed": false,
    "nbpresent": {
     "id": "b72c5bc5-a890-4089-ac4b-2950c6ab76d0"
    },
    "slideshow": {
     "slide_type": "slide"
    }
   },
   "outputs": [],
   "source": [
    "import re\n",
    "from collections import Counter\n",
    "\n",
    "with open('t8.shakespeare.txt') as f:\n",
    "    shakes = f.read()\n",
    "sample = shakes[10300:10500]"
   ]
  },
  {
   "cell_type": "code",
   "execution_count": 81,
   "metadata": {
    "collapsed": true,
    "nbpresent": {
     "id": "738a456d-1f5e-4d2f-8f7e-9cc859013af5"
    },
    "slideshow": {
     "slide_type": "fragment"
    }
   },
   "outputs": [],
   "source": [
    "def normalize(txt):\n",
    "    return txt.lower()\n",
    "def tokenize(txt):\n",
    "    return re.sub(r\"\"\"(([;.!?,'\":]|--)+)\"\"\",\n",
    "             r\" \\1 \",\n",
    "             txt)"
   ]
  },
  {
   "cell_type": "code",
   "execution_count": 82,
   "metadata": {
    "collapsed": false,
    "nbpresent": {
     "id": "992048ff-76b6-494b-8725-80d60821bfff"
    },
    "slideshow": {
     "slide_type": "slide"
    }
   },
   "outputs": [
    {
     "name": "stdout",
     "output_type": "stream",
     "text": [
      "  With means more blessed than my barren rhyme?\n",
      "  Now stand you on the top of happy hours,\n",
      "  And many maiden gardens yet unset,\n",
      "  With virtuous wish would bear you living flowers,\n",
      "  Much liker than yo\n"
     ]
    }
   ],
   "source": [
    "print(sample)"
   ]
  },
  {
   "cell_type": "code",
   "execution_count": 83,
   "metadata": {
    "collapsed": false,
    "nbpresent": {
     "id": "8452ac51-7076-42cb-9e93-d2bde711da71"
    },
    "slideshow": {
     "slide_type": "fragment"
    }
   },
   "outputs": [
    {
     "name": "stdout",
     "output_type": "stream",
     "text": [
      "  With means more blessed than my barren rhyme ? \n",
      "  Now stand you on the top of happy hours , \n",
      "  And many maiden gardens yet unset , \n",
      "  With virtuous wish would bear you living flowers , \n",
      "  Much liker than yo\n"
     ]
    }
   ],
   "source": [
    "print(tokenize(sample))"
   ]
  },
  {
   "cell_type": "code",
   "execution_count": 84,
   "metadata": {
    "collapsed": false,
    "nbpresent": {
     "id": "13404c1e-c573-44f6-b610-0e5ad4bb1a8f"
    },
    "slideshow": {
     "slide_type": "fragment"
    }
   },
   "outputs": [
    {
     "name": "stdout",
     "output_type": "stream",
     "text": [
      "  with means more blessed than my barren rhyme ? \n",
      "  now stand you on the top of happy hours , \n",
      "  and many maiden gardens yet unset , \n",
      "  with virtuous wish would bear you living flowers , \n",
      "  much liker than yo\n"
     ]
    }
   ],
   "source": [
    "print(normalize(tokenize(sample)))"
   ]
  },
  {
   "cell_type": "code",
   "execution_count": 85,
   "metadata": {
    "collapsed": false,
    "nbpresent": {
     "id": "0b23c85e-caa9-4580-93be-7f7c71cde0a2"
    },
    "slideshow": {
     "slide_type": "fragment"
    }
   },
   "outputs": [
    {
     "name": "stdout",
     "output_type": "stream",
     "text": [
      "['with', 'means', 'more', 'blessed', 'than', 'my', 'barren', 'rhyme', '?', 'now', 'stand', 'you', 'on', 'the', 'top', 'of', 'happy', 'hours', ',', 'and']\n"
     ]
    }
   ],
   "source": [
    "print(normalize(tokenize(sample)).split()[:20])"
   ]
  },
  {
   "cell_type": "markdown",
   "metadata": {
    "nbpresent": {
     "id": "5452c238-09ac-4b8b-af50-e681b18a2038"
    },
    "slideshow": {
     "slide_type": "slide"
    }
   },
   "source": [
    "Tokenize everything:"
   ]
  },
  {
   "cell_type": "code",
   "execution_count": 86,
   "metadata": {
    "collapsed": true,
    "nbpresent": {
     "id": "e7a4884b-32dd-47c1-8294-a7ad1ebcf287"
    }
   },
   "outputs": [],
   "source": [
    "all_tokens = normalize(tokenize(shakes)).split()"
   ]
  },
  {
   "cell_type": "markdown",
   "metadata": {
    "nbpresent": {
     "id": "915c44e1-8e41-4fe3-9948-291e4e4013d2"
    },
    "slideshow": {
     "slide_type": "slide"
    }
   },
   "source": [
    "Fast vocabulary extraction:"
   ]
  },
  {
   "cell_type": "code",
   "execution_count": 87,
   "metadata": {
    "collapsed": false,
    "nbpresent": {
     "id": "cc9c4c87-fd62-40c0-8c9c-e0a56a9274eb"
    }
   },
   "outputs": [
    {
     "data": {
      "text/plain": [
       "['our', 'lord', 'o', 'king', 'good', 'now', 'sir', 'from', 'come', 'at']"
      ]
     },
     "execution_count": 87,
     "metadata": {},
     "output_type": "execute_result"
    }
   ],
   "source": [
    "vocabulary = [a[0] for a in Counter(all_tokens).most_common(5050)[50:]]\n",
    "vocabulary[:10]"
   ]
  },
  {
   "cell_type": "code",
   "execution_count": 88,
   "metadata": {
    "collapsed": false,
    "nbpresent": {
     "id": "580f454a-797c-488c-8150-5085fa5fb342"
    }
   },
   "outputs": [
    {
     "data": {
      "text/plain": [
       "['say-',\n",
       " 'froward',\n",
       " 'veil',\n",
       " 'conspirators',\n",
       " 'weaker',\n",
       " 'preferr',\n",
       " 'whispers',\n",
       " 'its',\n",
       " 'jerusalem',\n",
       " 'dissemble']"
      ]
     },
     "execution_count": 88,
     "metadata": {},
     "output_type": "execute_result"
    }
   ],
   "source": [
    "vocabulary[-10:]"
   ]
  },
  {
   "cell_type": "code",
   "execution_count": 89,
   "metadata": {
    "collapsed": false,
    "nbpresent": {
     "id": "51817bfe-3cf4-4550-b1a6-44b064c2e84d"
    },
    "slideshow": {
     "slide_type": "fragment"
    }
   },
   "outputs": [],
   "source": [
    "with open(\"richardiiii.txt\") as f:\n",
    "    richard3 = f.read()\n",
    "with open(\"hamlet.txt\") as f:\n",
    "    hamlet = f.read()\n",
    "with open(\"asyoulikeit.txt\") as f:\n",
    "    asyoulikeit = f.read()"
   ]
  },
  {
   "cell_type": "code",
   "execution_count": 90,
   "metadata": {
    "collapsed": true,
    "nbpresent": {
     "id": "74ebe033-aacd-450c-9e11-d01f20f7b828"
    },
    "slideshow": {
     "slide_type": "fragment"
    }
   },
   "outputs": [],
   "source": [
    "richard3_tokens = normalize(tokenize(richard3)).split()\n",
    "hamlet_tokens = normalize(tokenize(hamlet)).split()\n",
    "asyoulikeit_tokens = normalize(tokenize(asyoulikeit)).split()"
   ]
  },
  {
   "cell_type": "code",
   "execution_count": 91,
   "metadata": {
    "collapsed": false,
    "nbpresent": {
     "id": "24bcbcba-ba94-4720-80a8-5b71bd767b77"
    },
    "slideshow": {
     "slide_type": "slide"
    }
   },
   "outputs": [
    {
     "data": {
      "text/plain": [
       "array([119, 242,  98, 267, 119])"
      ]
     },
     "execution_count": 91,
     "metadata": {},
     "output_type": "execute_result"
    }
   ],
   "source": [
    "def bow(tokens, vocabulary):\n",
    "    counts = Counter(token for token in tokens)\n",
    "    return np.array([counts[token] for token in vocabulary])\n",
    "\n",
    "richard3_bow = bow(richard3_tokens, vocabulary)\n",
    "richard3_bow[:5]"
   ]
  },
  {
   "cell_type": "code",
   "execution_count": 92,
   "metadata": {
    "collapsed": false,
    "nbpresent": {
     "id": "76392108-5e22-4b45-adec-197fd9e73df0"
    },
    "slideshow": {
     "slide_type": "skip"
    }
   },
   "outputs": [],
   "source": [
    "hamlet_bow = bow(hamlet_tokens, vocabulary)\n",
    "asyoulikeit_bow = bow(asyoulikeit_tokens, vocabulary)"
   ]
  },
  {
   "cell_type": "code",
   "execution_count": 93,
   "metadata": {
    "collapsed": false,
    "nbpresent": {
     "id": "6a6441a6-7a8f-4f9b-aa52-84d168ca5cbc"
    }
   },
   "outputs": [
    {
     "name": "stdout",
     "output_type": "stream",
     "text": [
      "Hamlet vs. As You Like It:  0.499966873206\n",
      "Hamlet vs. Richard III:  0.623168364997\n"
     ]
    }
   ],
   "source": [
    "def norm(a):\n",
    "    return np.sqrt(np.sum(a ** 2))\n",
    "def cosine_similarity(a, b):\n",
    "    return (a @ b) / (norm(a) * norm(b))\n",
    "\n",
    "print(\"Hamlet vs. As You Like It: \", cosine_similarity(hamlet_bow, asyoulikeit_bow))\n",
    "print(\"Hamlet vs. Richard III: \", cosine_similarity(hamlet_bow, richard3_bow))"
   ]
  },
  {
   "cell_type": "code",
   "execution_count": 94,
   "metadata": {
    "collapsed": false,
    "nbpresent": {
     "id": "adcf04eb-e7bd-4bed-a8dd-bfed542b9375"
    },
    "scrolled": false,
    "slideshow": {
     "slide_type": "fragment"
    }
   },
   "outputs": [
    {
     "name": "stdout",
     "output_type": "stream",
     "text": [
      "As You Like It vs. Richard III:  0.586101120429\n"
     ]
    }
   ],
   "source": [
    "print(\"As You Like It vs. Richard III: \", cosine_similarity(asyoulikeit_bow, richard3_bow))"
   ]
  },
  {
   "cell_type": "markdown",
   "metadata": {
    "nbpresent": {
     "id": "4addeda8-1b0c-4ea0-8687-9c269cc2cdf9"
    },
    "slideshow": {
     "slide_type": "slide"
    }
   },
   "source": [
    "# Mini-batching!\n",
    "\n"
   ]
  },
  {
   "cell_type": "code",
   "execution_count": 95,
   "metadata": {
    "collapsed": false,
    "nbpresent": {
     "id": "97bff783-adcd-4c59-95a1-554eb25b167d"
    },
    "slideshow": {
     "slide_type": "fragment"
    }
   },
   "outputs": [],
   "source": [
    "from itertools import islice\n",
    "\n",
    "shakespeare_lines = shakes.split('\\n')\n",
    "np.random.shuffle(shakespeare_lines)\n"
   ]
  },
  {
   "cell_type": "markdown",
   "metadata": {
    "nbpresent": {
     "id": "37779323-cb8f-4a66-a8cf-2d02b34b6442"
    },
    "slideshow": {
     "slide_type": "slide"
    }
   },
   "source": [
    "How to get Shakespeare lines five at a time?"
   ]
  },
  {
   "cell_type": "code",
   "execution_count": 96,
   "metadata": {
    "collapsed": true,
    "nbpresent": {
     "id": "d1a5020b-52b9-42b3-b0ae-39cab3c98dbe"
    },
    "slideshow": {
     "slide_type": "fragment"
    }
   },
   "outputs": [],
   "source": [
    "minibatch_size = 5"
   ]
  },
  {
   "cell_type": "code",
   "execution_count": 97,
   "metadata": {
    "collapsed": false,
    "nbpresent": {
     "id": "b268ced5-4667-4fc3-8adf-e70b15489f15"
    },
    "slideshow": {
     "slide_type": "slide"
    }
   },
   "outputs": [
    {
     "data": {
      "text/plain": [
       "<itertools.islice at 0x10f048368>"
      ]
     },
     "execution_count": 97,
     "metadata": {},
     "output_type": "execute_result"
    }
   ],
   "source": [
    "islice(shakespeare_lines, minibatch_size)"
   ]
  },
  {
   "cell_type": "code",
   "execution_count": 98,
   "metadata": {
    "collapsed": false,
    "nbpresent": {
     "id": "b968e47e-d43b-4f11-996c-9196e29308fa"
    },
    "slideshow": {
     "slide_type": "fragment"
    }
   },
   "outputs": [
    {
     "data": {
      "text/plain": [
       "['    Dare he presume to scorn us in this manner?',\n",
       " \"    Were both extermin'd.\",\n",
       " '  ANTONY. Fulvia is dead.',\n",
       " '     To match you where I hate; therefore beseech you',\n",
       " \"  Come, go with us; we'll look to that anon.\"]"
      ]
     },
     "execution_count": 98,
     "metadata": {},
     "output_type": "execute_result"
    }
   ],
   "source": [
    "list(islice(shakespeare_lines, minibatch_size))"
   ]
  },
  {
   "cell_type": "code",
   "execution_count": 99,
   "metadata": {
    "collapsed": false,
    "nbpresent": {
     "id": "92dd5320-f512-4f5c-a9d7-1a44382de534"
    },
    "slideshow": {
     "slide_type": "fragment"
    }
   },
   "outputs": [
    {
     "data": {
      "text/plain": [
       "['    Dare he presume to scorn us in this manner?',\n",
       " \"    Were both extermin'd.\",\n",
       " '  ANTONY. Fulvia is dead.',\n",
       " '     To match you where I hate; therefore beseech you',\n",
       " \"  Come, go with us; we'll look to that anon.\"]"
      ]
     },
     "execution_count": 99,
     "metadata": {},
     "output_type": "execute_result"
    }
   ],
   "source": [
    "list(islice(shakespeare_lines, minibatch_size))"
   ]
  },
  {
   "cell_type": "markdown",
   "metadata": {
    "nbpresent": {
     "id": "daa2b81b-7db1-44f1-818a-aea10937f922"
    },
    "slideshow": {
     "slide_type": "fragment"
    }
   },
   "source": [
    "Why always the same?"
   ]
  },
  {
   "cell_type": "code",
   "execution_count": 100,
   "metadata": {
    "collapsed": true,
    "nbpresent": {
     "id": "4ead39f3-c007-490b-a610-3e6c15076775"
    },
    "slideshow": {
     "slide_type": "slide"
    }
   },
   "outputs": [],
   "source": [
    "lines_iter = iter(shakespeare_lines)"
   ]
  },
  {
   "cell_type": "markdown",
   "metadata": {
    "nbpresent": {
     "id": "6f9f248c-91a4-4572-8eb1-faf675ceb044"
    },
    "slideshow": {
     "slide_type": "fragment"
    }
   },
   "source": [
    "### What is this doing?"
   ]
  },
  {
   "cell_type": "code",
   "execution_count": 101,
   "metadata": {
    "collapsed": false,
    "nbpresent": {
     "id": "d1799a0a-1e4f-4d32-b226-7e8671be8392"
    },
    "slideshow": {
     "slide_type": "slide"
    }
   },
   "outputs": [
    {
     "data": {
      "text/plain": [
       "['    Dare he presume to scorn us in this manner?',\n",
       " \"    Were both extermin'd.\",\n",
       " '  ANTONY. Fulvia is dead.',\n",
       " '     To match you where I hate; therefore beseech you',\n",
       " \"  Come, go with us; we'll look to that anon.\"]"
      ]
     },
     "execution_count": 101,
     "metadata": {},
     "output_type": "execute_result"
    }
   ],
   "source": [
    "list(islice(lines_iter, minibatch_size))"
   ]
  },
  {
   "cell_type": "code",
   "execution_count": 102,
   "metadata": {
    "collapsed": false,
    "nbpresent": {
     "id": "0f6c4409-303f-416f-a067-000082251920"
    },
    "slideshow": {
     "slide_type": "fragment"
    }
   },
   "outputs": [
    {
     "data": {
      "text/plain": [
       "[\"    Thou gav'st me thine not to give back again.\",\n",
       " \"  POMPEY. We'll feast each other ere we part, and let's\",\n",
       " \"  CLOWN. I would you had been by the ship-side, to have help'd her;\",\n",
       " '  TIMON. Mine honest friend,',\n",
       " '  The Ghost of Banquo and other Apparitions']"
      ]
     },
     "execution_count": 102,
     "metadata": {},
     "output_type": "execute_result"
    }
   ],
   "source": [
    "list(islice(lines_iter, minibatch_size))"
   ]
  },
  {
   "cell_type": "code",
   "execution_count": 103,
   "metadata": {
    "collapsed": false,
    "nbpresent": {
     "id": "ac564542-8665-4257-9dac-cfe7191bf4bc"
    },
    "slideshow": {
     "slide_type": "fragment"
    }
   },
   "outputs": [
    {
     "data": {
      "text/plain": [
       "['    The lustre in your eye, heaven in your cheek,',\n",
       " '    Will live as maids and widows. Come, away;',\n",
       " '    And his achievements of no less account.',\n",
       " \"    Till that the conquering wine hath steep'd our sense\",\n",
       " '    hanging of the thieves and so become a rare hangman.']"
      ]
     },
     "execution_count": 103,
     "metadata": {},
     "output_type": "execute_result"
    }
   ],
   "source": [
    "list(islice(lines_iter, minibatch_size))"
   ]
  },
  {
   "cell_type": "markdown",
   "metadata": {
    "nbpresent": {
     "id": "af5467bd-da80-4e46-9a72-7a45c11838e0"
    },
    "slideshow": {
     "slide_type": "slide"
    }
   },
   "source": [
    "## So...\n",
    "### If you have an iterator over individual examples, you have mini-batching in one line"
   ]
  },
  {
   "cell_type": "markdown",
   "metadata": {
    "nbpresent": {
     "id": "244bb617-502a-400a-83f2-6cb16c4cfbde"
    },
    "slideshow": {
     "slide_type": "fragment"
    }
   },
   "source": [
    "### Even if they are out-of-core, infinite, being hand-entered in real time by an army of rats... "
   ]
  },
  {
   "cell_type": "markdown",
   "metadata": {
    "nbpresent": {
     "id": "56898292-49dd-43a6-9af0-de0928804471"
    },
    "slideshow": {
     "slide_type": "slide"
    }
   },
   "source": [
    "# I Except\n",
    "\n",
    "## Erring out your grievances"
   ]
  },
  {
   "cell_type": "code",
   "execution_count": 104,
   "metadata": {
    "collapsed": false,
    "nbpresent": {
     "id": "6ddb00b2-75aa-4c4b-9c5c-c3f1b39472e6"
    },
    "slideshow": {
     "slide_type": "skip"
    }
   },
   "outputs": [],
   "source": [
    "import sys\n",
    "import importlib"
   ]
  },
  {
   "cell_type": "code",
   "execution_count": 105,
   "metadata": {
    "collapsed": false,
    "nbpresent": {
     "id": "8f1ac627-9255-477b-bafa-cfa7a431140d"
    },
    "slideshow": {
     "slide_type": "slide"
    }
   },
   "outputs": [
    {
     "name": "stderr",
     "output_type": "stream",
     "text": [
      "DEBUG:root:PROBLEM\n"
     ]
    },
    {
     "name": "stdout",
     "output_type": "stream",
     "text": [
      "PROBLEM\n"
     ]
    }
   ],
   "source": [
    "import logging\n",
    "importlib.reload(logging)\n",
    "logging.basicConfig(level=logging.DEBUG)\n",
    "logging.debug(\"PROBLEM\")\n",
    "print(\"PROBLEM\")"
   ]
  },
  {
   "cell_type": "markdown",
   "metadata": {},
   "source": [
    "## Why not print?"
   ]
  },
  {
   "cell_type": "code",
   "execution_count": 106,
   "metadata": {
    "collapsed": false,
    "nbpresent": {
     "id": "5fd5fc91-765b-43ba-bf93-9439d8d14def"
    },
    "slideshow": {
     "slide_type": "slide"
    }
   },
   "outputs": [
    {
     "name": "stderr",
     "output_type": "stream",
     "text": [
      "2016-10-14 18:30:58,852 - main_logger - DEBUG - Barf\n",
      "DEBUG:main_logger:Barf\n"
     ]
    }
   ],
   "source": [
    "logger = logging.getLogger(\"main_logger\")\n",
    "logger.handlers = []\n",
    "console = logging.StreamHandler()\n",
    "console.setLevel(logging.DEBUG)\n",
    "console.setFormatter(\n",
    "    logging.Formatter('%(asctime)s - %(name)s - %(levelname)s - %(message)s'))\n",
    "logger.addHandler(console)\n",
    "\n",
    "try:\n",
    "    1/0\n",
    "except:\n",
    "    logger.debug(\"Barf\")"
   ]
  },
  {
   "cell_type": "code",
   "execution_count": 107,
   "metadata": {
    "collapsed": true,
    "nbpresent": {
     "id": "72b3fd3a-f98a-4df9-a58e-7aa27c70ff1b"
    },
    "slideshow": {
     "slide_type": "slide"
    }
   },
   "outputs": [],
   "source": [
    "new_logger = logging.getLogger(\"main_logger.new_logger\")"
   ]
  },
  {
   "cell_type": "code",
   "execution_count": 108,
   "metadata": {
    "collapsed": true,
    "nbpresent": {
     "id": "844cd125-b32f-4925-a6aa-5bbc05a6863a"
    },
    "slideshow": {
     "slide_type": "skip"
    }
   },
   "outputs": [],
   "source": [
    "new_logger.handlers = []\n",
    "new_logger.propagate = True"
   ]
  },
  {
   "cell_type": "code",
   "execution_count": 109,
   "metadata": {
    "collapsed": false,
    "slideshow": {
     "slide_type": "fragment"
    }
   },
   "outputs": [
    {
     "name": "stdout",
     "output_type": "stream",
     "text": [
      "main_logger\n",
      "main_logger.new_logger\n"
     ]
    }
   ],
   "source": [
    "print(logger.name)\n",
    "print(new_logger.name)"
   ]
  },
  {
   "cell_type": "code",
   "execution_count": 110,
   "metadata": {
    "collapsed": false,
    "slideshow": {
     "slide_type": "fragment"
    }
   },
   "outputs": [
    {
     "data": {
      "text/plain": [
       "True"
      ]
     },
     "execution_count": 110,
     "metadata": {},
     "output_type": "execute_result"
    }
   ],
   "source": [
    "logger.getChild(\"new_logger\") is new_logger"
   ]
  },
  {
   "cell_type": "code",
   "execution_count": 111,
   "metadata": {
    "collapsed": true,
    "nbpresent": {
     "id": "f354e7ed-b787-461b-aca5-c3856e2e2af1"
    },
    "slideshow": {
     "slide_type": "fragment"
    }
   },
   "outputs": [],
   "source": [
    "new_console = logging.StreamHandler()\n",
    "new_console.setFormatter(\n",
    "    logging.Formatter('%(asctime)s - %(name)s - %(levelname)s - *** %(message)s ***'))\n",
    "new_console.setLevel(logging.INFO)\n",
    "new_logger.addHandler(new_console)"
   ]
  },
  {
   "cell_type": "code",
   "execution_count": 112,
   "metadata": {
    "collapsed": false,
    "nbpresent": {
     "id": "4a5cbb7d-c641-4531-b3ab-802bbbf98df3"
    },
    "slideshow": {
     "slide_type": "fragment"
    }
   },
   "outputs": [
    {
     "name": "stderr",
     "output_type": "stream",
     "text": [
      "2016-10-14 18:30:58,929 - main_logger.new_logger - DEBUG - Barf\n",
      "DEBUG:main_logger.new_logger:Barf\n",
      "2016-10-14 18:30:58,936 - main_logger.new_logger - INFO - *** Useful message ***\n",
      "2016-10-14 18:30:58,936 - main_logger.new_logger - INFO - Useful message\n",
      "INFO:main_logger.new_logger:Useful message\n"
     ]
    }
   ],
   "source": [
    "new_logger.debug(\"Barf\")\n",
    "new_logger.info(\"Useful message\")"
   ]
  },
  {
   "cell_type": "code",
   "execution_count": 113,
   "metadata": {
    "collapsed": false,
    "nbpresent": {
     "id": "92c40eb8-2391-460b-a6eb-19581e22049e"
    },
    "slideshow": {
     "slide_type": "slide"
    }
   },
   "outputs": [
    {
     "name": "stderr",
     "output_type": "stream",
     "text": [
      "2016-10-14 18:30:58,946 - main_logger.new_logger - INFO - *** Useful message ***\n"
     ]
    }
   ],
   "source": [
    "new_logger.propagate = False\n",
    "new_logger.debug(\"Barf\")\n",
    "new_logger.info(\"Useful message\")"
   ]
  }
 ],
 "metadata": {
  "anaconda-cloud": {},
  "celltoolbar": "Slideshow",
  "kernelspec": {
   "display_name": "Python [Root]",
   "language": "python",
   "name": "Python [Root]"
  },
  "language_info": {
   "codemirror_mode": {
    "name": "ipython",
    "version": 3
   },
   "file_extension": ".py",
   "mimetype": "text/x-python",
   "name": "python",
   "nbconvert_exporter": "python",
   "pygments_lexer": "ipython3",
   "version": "3.5.1"
  },
  "nbpresent": {
   "slides": {
    "0603ff06-3de2-4c52-8534-3c6510ea5aaa": {
     "id": "0603ff06-3de2-4c52-8534-3c6510ea5aaa",
     "prev": "0b17f200-69c5-41de-aa3b-1e2f574491a4",
     "regions": {
      "c54180a0-8428-41ab-bab0-d9a7c9c4d638": {
       "attrs": {
        "height": 0.4,
        "width": 0.8,
        "x": 0.1,
        "y": 0.5
       },
       "content": {
        "cell": "d1a5020b-52b9-42b3-b0ae-39cab3c98dbe",
        "part": "whole"
       },
       "id": "c54180a0-8428-41ab-bab0-d9a7c9c4d638"
      },
      "dd349439-9b1e-4462-80df-459ec435aa76": {
       "attrs": {
        "height": 0.8,
        "width": 0.8,
        "x": 0.1,
        "y": 0.1
       },
       "content": {
        "cell": "37779323-cb8f-4a66-a8cf-2d02b34b6442",
        "part": "whole"
       },
       "id": "dd349439-9b1e-4462-80df-459ec435aa76"
      }
     }
    },
    "0b17f200-69c5-41de-aa3b-1e2f574491a4": {
     "id": "0b17f200-69c5-41de-aa3b-1e2f574491a4",
     "prev": "91299167-5093-4e2a-a5d7-dda7c291ded5",
     "regions": {
      "15265bd7-9a8f-465f-96e0-2ea236348531": {
       "attrs": {
        "height": 0.8,
        "width": 0.8,
        "x": 0.1,
        "y": 0.1
       },
       "content": {
        "cell": "4addeda8-1b0c-4ea0-8687-9c269cc2cdf9",
        "part": "whole"
       },
       "id": "15265bd7-9a8f-465f-96e0-2ea236348531"
      },
      "47faee53-9131-4e1e-ac84-8a3f746382db": {
       "attrs": {
        "height": 0.4,
        "width": 0.8,
        "x": 0.1,
        "y": 0.5
       },
       "content": {
        "cell": "97bff783-adcd-4c59-95a1-554eb25b167d",
        "part": "whole"
       },
       "id": "47faee53-9131-4e1e-ac84-8a3f746382db"
      }
     }
    },
    "0b557924-be8b-47e2-964f-0fe3bc4c38b9": {
     "id": "0b557924-be8b-47e2-964f-0fe3bc4c38b9",
     "prev": "f30b2790-c23c-41d5-a0f5-b1e19701be1c",
     "regions": {
      "654913dc-c1ee-470e-bc8c-e1874a0e7c84": {
       "attrs": {
        "height": 0.4,
        "width": 0.8,
        "x": 0.1,
        "y": 0.5
       },
       "content": {
        "cell": "2ab64593-ad62-47cb-b1e4-7f037b610f22",
        "part": "whole"
       },
       "id": "654913dc-c1ee-470e-bc8c-e1874a0e7c84"
      },
      "6d5b6295-9875-42ab-871c-829d4ffab74e": {
       "attrs": {
        "height": 0.4,
        "width": 0.8,
        "x": 0.1,
        "y": 0.5
       },
       "content": {
        "cell": "baf5f06d-9005-47b6-adcd-49a5b9e69428",
        "part": "whole"
       },
       "id": "6d5b6295-9875-42ab-871c-829d4ffab74e"
      },
      "c87399d8-5dc4-4dfb-8b56-ab84974035b3": {
       "attrs": {
        "height": 0.8,
        "width": 0.8,
        "x": 0.1,
        "y": 0.1
       },
       "content": {
        "cell": "5e021261-fc1a-4e54-8e55-e267541bf61a",
        "part": "whole"
       },
       "id": "c87399d8-5dc4-4dfb-8b56-ab84974035b3"
      }
     }
    },
    "1f79cef2-d2be-4246-ba5b-75d68fe921be": {
     "id": "1f79cef2-d2be-4246-ba5b-75d68fe921be",
     "prev": "91a34925-65d8-4cc6-aea8-64fde9be3438",
     "regions": {
      "639d053f-7108-41b4-b3d1-85409d9386b4": {
       "attrs": {
        "height": 0.4,
        "width": 0.8,
        "x": 0.1,
        "y": 0.5
       },
       "content": {
        "cell": "67b90009-9220-4813-b49b-b576136ce7a9",
        "part": "whole"
       },
       "id": "639d053f-7108-41b4-b3d1-85409d9386b4"
      },
      "e0ee405e-3a41-4041-91d8-cf4254c209ee": {
       "attrs": {
        "height": 0.8,
        "width": 0.8,
        "x": 0.1,
        "y": 0.1
       },
       "content": {
        "cell": "5ba92a77-8e3a-4ee6-92e3-84855511220d",
        "part": "whole"
       },
       "id": "e0ee405e-3a41-4041-91d8-cf4254c209ee"
      }
     }
    },
    "3eff7ee8-285d-48b1-97bf-dde3aa9cdd2d": {
     "id": "3eff7ee8-285d-48b1-97bf-dde3aa9cdd2d",
     "prev": "486cb3a1-6234-4ebb-b0aa-a24bad6a9df1",
     "regions": {
      "69509cd3-72bd-4336-8651-cf99fa333dcd": {
       "attrs": {
        "height": 0.4,
        "width": 0.8,
        "x": 0.1,
        "y": 0.5
       },
       "content": {
        "cell": "13404c1e-c573-44f6-b610-0e5ad4bb1a8f",
        "part": "whole"
       },
       "id": "69509cd3-72bd-4336-8651-cf99fa333dcd"
      },
      "fa337b4e-0b50-4581-a20a-00214301657e": {
       "attrs": {
        "height": 0.4,
        "width": 0.8,
        "x": 0.1,
        "y": 0.5
       },
       "content": {
        "cell": "8452ac51-7076-42cb-9e93-d2bde711da71",
        "part": "whole"
       },
       "id": "fa337b4e-0b50-4581-a20a-00214301657e"
      }
     }
    },
    "4129f7bc-cf2f-41b2-9cfe-3ad467d20f4a": {
     "id": "4129f7bc-cf2f-41b2-9cfe-3ad467d20f4a",
     "prev": "0603ff06-3de2-4c52-8534-3c6510ea5aaa",
     "regions": {
      "6d9ce3a4-7345-4d3b-9741-4135308a8066": {
       "attrs": {
        "height": 0.8,
        "width": 0.8,
        "x": 0.1,
        "y": 0.1
       },
       "content": {
        "cell": "b268ced5-4667-4fc3-8adf-e70b15489f15",
        "part": "whole"
       },
       "id": "6d9ce3a4-7345-4d3b-9741-4135308a8066"
      },
      "d829877c-b92b-4bbb-928d-030960d2b103": {
       "attrs": {
        "height": 0.4,
        "width": 0.8,
        "x": 0.1,
        "y": 0.5
       },
       "content": {
        "cell": "b968e47e-d43b-4f11-996c-9196e29308fa",
        "part": "whole"
       },
       "id": "d829877c-b92b-4bbb-928d-030960d2b103"
      },
      "ed1791e9-99f5-4e8d-8000-04adbb878300": {
       "attrs": {
        "height": 0.4,
        "width": 0.8,
        "x": 0.1,
        "y": 0.5
       },
       "content": {
        "cell": "daa2b81b-7db1-44f1-818a-aea10937f922",
        "part": "whole"
       },
       "id": "ed1791e9-99f5-4e8d-8000-04adbb878300"
      },
      "f95e2e79-e008-445c-8731-804c55042dde": {
       "attrs": {
        "height": 0.4,
        "width": 0.8,
        "x": 0.1,
        "y": 0.5
       },
       "content": {
        "cell": "92dd5320-f512-4f5c-a9d7-1a44382de534",
        "part": "whole"
       },
       "id": "f95e2e79-e008-445c-8731-804c55042dde"
      }
     }
    },
    "45274938-7474-496a-b2b0-b2a127f24f62": {
     "id": "45274938-7474-496a-b2b0-b2a127f24f62",
     "prev": "1f79cef2-d2be-4246-ba5b-75d68fe921be",
     "regions": {
      "52121099-a446-4933-b75f-c380cad0e98d": {
       "attrs": {
        "height": 0.8,
        "width": 0.8,
        "x": 0.1,
        "y": 0.1
       },
       "content": {
        "cell": "626c86ca-cc9d-4d98-8aef-b6f61cf780f0",
        "part": "whole"
       },
       "id": "52121099-a446-4933-b75f-c380cad0e98d"
      },
      "76a4ca57-17ea-4dba-804d-49317119eb14": {
       "attrs": {
        "height": 0.4,
        "width": 0.8,
        "x": 0.1,
        "y": 0.5
       },
       "content": {
        "cell": "f770da7a-fdfa-4652-ae6f-467194e64b4c",
        "part": "whole"
       },
       "id": "76a4ca57-17ea-4dba-804d-49317119eb14"
      }
     }
    },
    "486cb3a1-6234-4ebb-b0aa-a24bad6a9df1": {
     "id": "486cb3a1-6234-4ebb-b0aa-a24bad6a9df1",
     "prev": "dc8027f3-2411-4afe-bd1d-9b0ce5eadd6b",
     "regions": {
      "123ec4bf-ba0b-45e9-84b5-7925c92186f2": {
       "attrs": {
        "height": 0.4,
        "width": 0.8,
        "x": 0.1,
        "y": 0.5
       },
       "content": {
        "cell": "738a456d-1f5e-4d2f-8f7e-9cc859013af5",
        "part": "whole"
       },
       "id": "123ec4bf-ba0b-45e9-84b5-7925c92186f2"
      },
      "35f71e1a-0e28-4874-8f62-ec675e98a598": {
       "attrs": {
        "height": 0.8,
        "width": 0.8,
        "x": 0.1,
        "y": 0.1
       },
       "content": {
        "cell": "b72c5bc5-a890-4089-ac4b-2950c6ab76d0",
        "part": "whole"
       },
       "id": "35f71e1a-0e28-4874-8f62-ec675e98a598"
      }
     }
    },
    "76ea5a9b-ea4c-4661-a1c0-2e8c1d5a6069": {
     "id": "76ea5a9b-ea4c-4661-a1c0-2e8c1d5a6069",
     "prev": "3eff7ee8-285d-48b1-97bf-dde3aa9cdd2d",
     "regions": {
      "5c66c838-e912-4346-9a54-b7f8fc91d2a7": {
       "attrs": {
        "height": 0.8,
        "width": 0.8,
        "x": 0.1,
        "y": 0.1
       },
       "content": {
        "cell": "915c44e1-8e41-4fe3-9948-291e4e4013d2",
        "part": "whole"
       },
       "id": "5c66c838-e912-4346-9a54-b7f8fc91d2a7"
      },
      "8a78363b-d084-4ef1-a326-87bad648ac54": {
       "attrs": {
        "height": 0.4,
        "width": 0.8,
        "x": 0.1,
        "y": 0.5
       },
       "content": {
        "cell": "cc9c4c87-fd62-40c0-8c9c-e0a56a9274eb",
        "part": "whole"
       },
       "id": "8a78363b-d084-4ef1-a326-87bad648ac54"
      },
      "8cf5f856-f77f-4c04-8858-0d45be074a2e": {
       "attrs": {
        "height": 0.4,
        "width": 0.8,
        "x": 0.1,
        "y": 0.5
       },
       "content": {
        "cell": "51817bfe-3cf4-4550-b1a6-44b064c2e84d",
        "part": "whole"
       },
       "id": "8cf5f856-f77f-4c04-8858-0d45be074a2e"
      },
      "f0db3ca3-ef81-423f-8959-f9554d631d51": {
       "attrs": {
        "height": 0.4,
        "width": 0.8,
        "x": 0.1,
        "y": 0.5
       },
       "content": {
        "cell": "74ebe033-aacd-450c-9e11-d01f20f7b828",
        "part": "whole"
       },
       "id": "f0db3ca3-ef81-423f-8959-f9554d631d51"
      },
      "f4bc3634-66a9-42b7-95ea-6b811880b48f": {
       "attrs": {
        "height": 0.4,
        "width": 0.8,
        "x": 0.1,
        "y": 0.5
       },
       "content": {
        "cell": "580f454a-797c-488c-8150-5085fa5fb342",
        "part": "whole"
       },
       "id": "f4bc3634-66a9-42b7-95ea-6b811880b48f"
      }
     }
    },
    "91299167-5093-4e2a-a5d7-dda7c291ded5": {
     "id": "91299167-5093-4e2a-a5d7-dda7c291ded5",
     "prev": "76ea5a9b-ea4c-4661-a1c0-2e8c1d5a6069",
     "regions": {
      "1fee8800-a675-4865-958f-b4b0982c6194": {
       "attrs": {
        "height": 0.4,
        "width": 0.8,
        "x": 0.1,
        "y": 0.5
       },
       "content": {
        "cell": "adcf04eb-e7bd-4bed-a8dd-bfed542b9375",
        "part": "whole"
       },
       "id": "1fee8800-a675-4865-958f-b4b0982c6194"
      },
      "efe5b350-31eb-4de2-ac0d-d69319c46044": {
       "attrs": {
        "height": 0.8,
        "width": 0.8,
        "x": 0.1,
        "y": 0.1
       },
       "content": {
        "cell": "24bcbcba-ba94-4720-80a8-5b71bd767b77",
        "part": "whole"
       },
       "id": "efe5b350-31eb-4de2-ac0d-d69319c46044"
      },
      "f029d610-412e-4ac0-96d7-673f69c81f98": {
       "attrs": {
        "height": 0.4,
        "width": 0.8,
        "x": 0.1,
        "y": 0.5
       },
       "content": {
        "cell": "6a6441a6-7a8f-4f9b-aa52-84d168ca5cbc",
        "part": "whole"
       },
       "id": "f029d610-412e-4ac0-96d7-673f69c81f98"
      }
     }
    },
    "91a34925-65d8-4cc6-aea8-64fde9be3438": {
     "id": "91a34925-65d8-4cc6-aea8-64fde9be3438",
     "prev": "e699066e-ed36-4611-b63a-81a7192f0b75",
     "regions": {
      "ae411987-9140-46b5-9045-dd8665c5093f": {
       "attrs": {
        "height": 1,
        "width": 1,
        "x": 0,
        "y": 0
       },
       "id": "ae411987-9140-46b5-9045-dd8665c5093f"
      }
     }
    },
    "aefbb624-a81c-4d6e-bee9-f8c394d857f1": {
     "id": "aefbb624-a81c-4d6e-bee9-f8c394d857f1",
     "prev": "d486ee1a-fc11-44ae-ba88-eb38e10de792",
     "regions": {
      "11d85b9f-4da5-43be-b060-0b81d5eb8ecd": {
       "attrs": {
        "height": 0.4,
        "width": 0.8,
        "x": 0.1,
        "y": 0.5
       },
       "content": {
        "cell": "244bb617-502a-400a-83f2-6cb16c4cfbde",
        "part": "whole"
       },
       "id": "11d85b9f-4da5-43be-b060-0b81d5eb8ecd"
      },
      "1c560d3f-2c90-4f72-9a09-185569f30cf9": {
       "attrs": {
        "height": 0.4,
        "width": 0.8,
        "x": 0.1,
        "y": 0.5
       },
       "content": {
        "cell": "56898292-49dd-43a6-9af0-de0928804471",
        "part": "whole"
       },
       "id": "1c560d3f-2c90-4f72-9a09-185569f30cf9"
      },
      "34c4e25e-e792-4e86-88d2-4a2efdbd7f0d": {
       "attrs": {
        "height": 0.4,
        "width": 0.8,
        "x": 0.1,
        "y": 0.5
       },
       "content": {
        "cell": "8f1ac627-9255-477b-bafa-cfa7a431140d",
        "part": "whole"
       },
       "id": "34c4e25e-e792-4e86-88d2-4a2efdbd7f0d"
      },
      "474b30fa-c575-4a1e-8c32-0758976c716f": {
       "attrs": {
        "height": 0.4,
        "width": 0.8,
        "x": 0.1,
        "y": 0.5
       },
       "content": {
        "cell": "92c40eb8-2391-460b-a6eb-19581e22049e",
        "part": "whole"
       },
       "id": "474b30fa-c575-4a1e-8c32-0758976c716f"
      },
      "6830fb2d-37a9-4e48-b08e-a5e653865d0d": {
       "attrs": {
        "height": 0.4,
        "width": 0.8,
        "x": 0.1,
        "y": 0.5
       },
       "content": {
        "cell": "f354e7ed-b787-461b-aca5-c3856e2e2af1",
        "part": "whole"
       },
       "id": "6830fb2d-37a9-4e48-b08e-a5e653865d0d"
      },
      "6cd5146f-7ff8-4b18-a3f6-6dd0c17790aa": {
       "attrs": {
        "height": 0.4,
        "width": 0.8,
        "x": 0.1,
        "y": 0.5
       },
       "content": {
        "cell": "6ddb00b2-75aa-4c4b-9c5c-c3f1b39472e6",
        "part": "whole"
       },
       "id": "6cd5146f-7ff8-4b18-a3f6-6dd0c17790aa"
      },
      "7601d69e-8d7d-4803-945d-e9dcbf415787": {
       "attrs": {
        "height": 0.4,
        "width": 0.8,
        "x": 0.1,
        "y": 0.5
       },
       "content": {
        "cell": "c56ef402-5290-4f1c-ac17-7406b2f2bc5d",
        "part": "whole"
       },
       "id": "7601d69e-8d7d-4803-945d-e9dcbf415787"
      },
      "8e0723ad-4009-48d0-9772-f83476b4be17": {
       "attrs": {
        "height": 0.4,
        "width": 0.8,
        "x": 0.1,
        "y": 0.5
       },
       "content": {
        "cell": "3067e4b1-ae5a-41e2-917a-8d6aca774564",
        "part": "whole"
       },
       "id": "8e0723ad-4009-48d0-9772-f83476b4be17"
      },
      "921649e8-4531-4b38-be30-f73d8fecf290": {
       "attrs": {
        "height": 0.8,
        "width": 0.8,
        "x": 0.1,
        "y": 0.1
       },
       "content": {
        "cell": "af5467bd-da80-4e46-9a72-7a45c11838e0",
        "part": "whole"
       },
       "id": "921649e8-4531-4b38-be30-f73d8fecf290"
      },
      "9a72951b-9d1c-47eb-b518-b96a8202bd93": {
       "attrs": {
        "height": 0.4,
        "width": 0.8,
        "x": 0.1,
        "y": 0.5
       },
       "content": {
        "cell": "4a5cbb7d-c641-4531-b3ab-802bbbf98df3",
        "part": "whole"
       },
       "id": "9a72951b-9d1c-47eb-b518-b96a8202bd93"
      },
      "9af4a7e5-5d98-4255-97b5-6d243eb44d68": {
       "attrs": {
        "height": 0.4,
        "width": 0.8,
        "x": 0.1,
        "y": 0.5
       },
       "content": {
        "cell": "9d4adc6f-cd3f-42dd-8d82-f56a7d110efb",
        "part": "whole"
       },
       "id": "9af4a7e5-5d98-4255-97b5-6d243eb44d68"
      },
      "c5dae8f4-74d4-4079-97fd-f5abc117e8a4": {
       "attrs": {
        "height": 0.4,
        "width": 0.8,
        "x": 0.1,
        "y": 0.5
       },
       "content": {
        "cell": "edb8ce7a-ef2e-40f7-bbd6-df3d992108e2",
        "part": "whole"
       },
       "id": "c5dae8f4-74d4-4079-97fd-f5abc117e8a4"
      },
      "d1ea0796-a2a9-4c8e-b282-92bade9a2e17": {
       "attrs": {
        "height": 0.4,
        "width": 0.8,
        "x": 0.1,
        "y": 0.5
       },
       "content": {
        "cell": "5fd5fc91-765b-43ba-bf93-9439d8d14def",
        "part": "whole"
       },
       "id": "d1ea0796-a2a9-4c8e-b282-92bade9a2e17"
      },
      "d2be5c2d-c41a-404e-9979-d6530d07559b": {
       "attrs": {
        "height": 0.4,
        "width": 0.8,
        "x": 0.1,
        "y": 0.5
       },
       "content": {
        "cell": "72b3fd3a-f98a-4df9-a58e-7aa27c70ff1b",
        "part": "whole"
       },
       "id": "d2be5c2d-c41a-404e-9979-d6530d07559b"
      }
     }
    },
    "ca4b6c75-28f1-4c03-8582-d1d23a3f10eb": {
     "id": "ca4b6c75-28f1-4c03-8582-d1d23a3f10eb",
     "prev": "0b557924-be8b-47e2-964f-0fe3bc4c38b9",
     "regions": {
      "4a9eb916-535c-478a-90a6-23932346a400": {
       "attrs": {
        "height": 0.4,
        "width": 0.8,
        "x": 0.1,
        "y": 0.5
       },
       "content": {
        "cell": "9592badb-b337-4aab-8801-0085e5476241",
        "part": "whole"
       },
       "id": "4a9eb916-535c-478a-90a6-23932346a400"
      },
      "8b99cb23-f046-4a79-9d62-5f915ec1fa41": {
       "attrs": {
        "height": 0.4,
        "width": 0.8,
        "x": 0.1,
        "y": 0.5
       },
       "content": {
        "cell": "98332b46-82af-4092-993f-f11cf9be78f1",
        "part": "whole"
       },
       "id": "8b99cb23-f046-4a79-9d62-5f915ec1fa41"
      },
      "904f117c-510e-4942-9325-a9e96566a888": {
       "attrs": {
        "height": 0.4,
        "width": 0.8,
        "x": 0.1,
        "y": 0.5
       },
       "content": {
        "cell": "42e26e9a-b3b5-4c5e-a057-a56e564fd206",
        "part": "whole"
       },
       "id": "904f117c-510e-4942-9325-a9e96566a888"
      },
      "c84dea4f-4fab-4a1c-80bc-c60e30e803f9": {
       "attrs": {
        "height": 0.8,
        "width": 0.8,
        "x": 0.1,
        "y": 0.1
       },
       "content": {
        "cell": "742ea1ce-a765-4e3b-bce1-8100c7c11456",
        "part": "whole"
       },
       "id": "c84dea4f-4fab-4a1c-80bc-c60e30e803f9"
      }
     }
    },
    "d486ee1a-fc11-44ae-ba88-eb38e10de792": {
     "id": "d486ee1a-fc11-44ae-ba88-eb38e10de792",
     "prev": "efb98165-40e6-4464-b9a1-383275c21a2a",
     "regions": {
      "564b2e37-fa99-46be-b25a-72945524d9a7": {
       "attrs": {
        "height": 0.8,
        "width": 0.8,
        "x": 0.1,
        "y": 0.1
       },
       "content": {
        "cell": "d1799a0a-1e4f-4d32-b226-7e8671be8392",
        "part": "whole"
       },
       "id": "564b2e37-fa99-46be-b25a-72945524d9a7"
      },
      "8a01aa79-ce6a-4ac9-b5bb-71b8f898049d": {
       "attrs": {
        "height": 0.4,
        "width": 0.8,
        "x": 0.1,
        "y": 0.5
       },
       "content": {
        "cell": "0f6c4409-303f-416f-a067-000082251920",
        "part": "whole"
       },
       "id": "8a01aa79-ce6a-4ac9-b5bb-71b8f898049d"
      },
      "c5b433bb-d4fb-472f-b9fc-959263f68738": {
       "attrs": {
        "height": 0.4,
        "width": 0.8,
        "x": 0.1,
        "y": 0.5
       },
       "content": {
        "cell": "ac564542-8665-4257-9dac-cfe7191bf4bc",
        "part": "whole"
       },
       "id": "c5b433bb-d4fb-472f-b9fc-959263f68738"
      }
     }
    },
    "dc8027f3-2411-4afe-bd1d-9b0ce5eadd6b": {
     "id": "dc8027f3-2411-4afe-bd1d-9b0ce5eadd6b",
     "prev": "ca4b6c75-28f1-4c03-8582-d1d23a3f10eb",
     "regions": {
      "d48b46a7-84bd-403b-a10b-2ef1575d1af4": {
       "attrs": {
        "height": 0.8,
        "width": 0.8,
        "x": 0.1,
        "y": 0.1
       },
       "content": {
        "cell": "d54d2f29-1566-471a-827b-62b9e27f97f5",
        "part": "whole"
       },
       "id": "d48b46a7-84bd-403b-a10b-2ef1575d1af4"
      }
     }
    },
    "e699066e-ed36-4611-b63a-81a7192f0b75": {
     "id": "e699066e-ed36-4611-b63a-81a7192f0b75",
     "prev": null,
     "regions": {}
    },
    "efb98165-40e6-4464-b9a1-383275c21a2a": {
     "id": "efb98165-40e6-4464-b9a1-383275c21a2a",
     "prev": "4129f7bc-cf2f-41b2-9cfe-3ad467d20f4a",
     "regions": {
      "5c1bd139-9410-47ff-813c-b965f41a9eb1": {
       "attrs": {
        "height": 0.8,
        "width": 0.8,
        "x": 0.1,
        "y": 0.1
       },
       "content": {
        "cell": "4ead39f3-c007-490b-a610-3e6c15076775",
        "part": "whole"
       },
       "id": "5c1bd139-9410-47ff-813c-b965f41a9eb1"
      },
      "5d3255d9-ac11-43d9-a408-800aca123f9d": {
       "attrs": {
        "height": 0.4,
        "width": 0.8,
        "x": 0.1,
        "y": 0.5
       },
       "content": {
        "cell": "6f9f248c-91a4-4572-8eb1-faf675ceb044",
        "part": "whole"
       },
       "id": "5d3255d9-ac11-43d9-a408-800aca123f9d"
      }
     }
    },
    "f30b2790-c23c-41d5-a0f5-b1e19701be1c": {
     "id": "f30b2790-c23c-41d5-a0f5-b1e19701be1c",
     "prev": "45274938-7474-496a-b2b0-b2a127f24f62",
     "regions": {
      "01110572-2099-47d9-886a-ec9d2768be53": {
       "attrs": {
        "height": 0.8,
        "width": 0.8,
        "x": 0.1,
        "y": 0.1
       },
       "content": {
        "cell": "d769edf3-d2c3-4c51-b2ae-1b3d7f181a67",
        "part": "whole"
       },
       "id": "01110572-2099-47d9-886a-ec9d2768be53"
      },
      "3b18f9b6-0e9f-4cfb-bff3-48ead692bb9c": {
       "attrs": {
        "height": 0.4,
        "width": 0.8,
        "x": 0.1,
        "y": 0.5
       },
       "content": {
        "cell": "bcbc3869-76e5-4ab5-9582-b255b33a5ac9",
        "part": "whole"
       },
       "id": "3b18f9b6-0e9f-4cfb-bff3-48ead692bb9c"
      },
      "4ee61a97-1b2d-4574-9d8f-fe7dff68a0e4": {
       "attrs": {
        "height": 0.4,
        "width": 0.8,
        "x": 0.1,
        "y": 0.5
       },
       "content": {
        "cell": "cf89cdb9-c254-4b0b-8ce0-01797b63c5a9",
        "part": "whole"
       },
       "id": "4ee61a97-1b2d-4574-9d8f-fe7dff68a0e4"
      },
      "781bf00e-4131-4cd9-aad2-c77f6f02549a": {
       "attrs": {
        "height": 0.4,
        "width": 0.8,
        "x": 0.1,
        "y": 0.5
       },
       "content": {
        "cell": "61ae5307-5502-4657-89c5-dda61375decd",
        "part": "whole"
       },
       "id": "781bf00e-4131-4cd9-aad2-c77f6f02549a"
      }
     }
    }
   },
   "themes": {
    "default": "9640a350-3369-4554-93df-a1eb80b7b024",
    "theme": {
     "2d418403-4e00-4155-9936-01395c99c13f": {
      "backgrounds": {
       "dc7afa04-bf90-40b1-82a5-726e3cff5267": {
        "background-color": "31af15d2-7e15-44c5-ab5e-e04b16a89eff",
        "id": "dc7afa04-bf90-40b1-82a5-726e3cff5267"
       }
      },
      "id": "2d418403-4e00-4155-9936-01395c99c13f",
      "palette": {
       "19cc588f-0593-49c9-9f4b-e4d7cc113b1c": {
        "id": "19cc588f-0593-49c9-9f4b-e4d7cc113b1c",
        "rgb": [
         252,
         252,
         252
        ]
       },
       "31af15d2-7e15-44c5-ab5e-e04b16a89eff": {
        "id": "31af15d2-7e15-44c5-ab5e-e04b16a89eff",
        "rgb": [
         68,
         68,
         68
        ]
       },
       "50f92c45-a630-455b-aec3-788680ec7410": {
        "id": "50f92c45-a630-455b-aec3-788680ec7410",
        "rgb": [
         197,
         226,
         245
        ]
       },
       "c5cc3653-2ee1-402a-aba2-7caae1da4f6c": {
        "id": "c5cc3653-2ee1-402a-aba2-7caae1da4f6c",
        "rgb": [
         43,
         126,
         184
        ]
       },
       "efa7f048-9acb-414c-8b04-a26811511a21": {
        "id": "efa7f048-9acb-414c-8b04-a26811511a21",
        "rgb": [
         25.118061674008803,
         73.60176211453744,
         107.4819383259912
        ]
       }
      },
      "rules": {
       "a": {
        "color": "19cc588f-0593-49c9-9f4b-e4d7cc113b1c"
       },
       "blockquote": {
        "color": "50f92c45-a630-455b-aec3-788680ec7410",
        "font-size": 3
       },
       "code": {
        "font-family": "Anonymous Pro"
       },
       "h1": {
        "color": "19cc588f-0593-49c9-9f4b-e4d7cc113b1c",
        "font-family": "Merriweather",
        "font-size": 8
       },
       "h2": {
        "color": "19cc588f-0593-49c9-9f4b-e4d7cc113b1c",
        "font-family": "Merriweather",
        "font-size": 6
       },
       "h3": {
        "color": "50f92c45-a630-455b-aec3-788680ec7410",
        "font-family": "Lato",
        "font-size": 5.5
       },
       "h4": {
        "color": "c5cc3653-2ee1-402a-aba2-7caae1da4f6c",
        "font-family": "Lato",
        "font-size": 5
       },
       "h5": {
        "font-family": "Lato"
       },
       "h6": {
        "font-family": "Lato"
       },
       "h7": {
        "font-family": "Lato"
       },
       "li": {
        "color": "50f92c45-a630-455b-aec3-788680ec7410",
        "font-size": 3.25
       },
       "pre": {
        "font-family": "Anonymous Pro",
        "font-size": 4
       }
      },
      "text-base": {
       "color": "19cc588f-0593-49c9-9f4b-e4d7cc113b1c",
       "font-family": "Lato",
       "font-size": 4
      }
     }
    }
   }
  }
 },
 "nbformat": 4,
 "nbformat_minor": 0
}
