{
 "cells": [
  {
   "cell_type": "code",
   "execution_count": 1,
   "metadata": {
    "collapsed": true,
    "nbpresent": {
     "id": "c8ad0fe8-3ac5-4e22-bbd2-c461463506ca"
    },
    "slideshow": {
     "slide_type": "skip"
    }
   },
   "outputs": [],
   "source": [
    "import pprint\n",
    "from functools import partial\n",
    "import numpy as np"
   ]
  },
  {
   "cell_type": "markdown",
   "metadata": {
    "slideshow": {
     "slide_type": "slide"
    }
   },
   "source": [
    "# Functional programming with fewer lambdas"
   ]
  },
  {
   "cell_type": "markdown",
   "metadata": {
    "slideshow": {
     "slide_type": "slide"
    }
   },
   "source": [
    "# `map`"
   ]
  },
  {
   "cell_type": "code",
   "execution_count": 2,
   "metadata": {
    "collapsed": false,
    "slideshow": {
     "slide_type": "-"
    }
   },
   "outputs": [
    {
     "data": {
      "text/plain": [
       "[1.0,\n",
       " 2.7182818284590451,\n",
       " 7.3890560989306504,\n",
       " 20.085536923187668,\n",
       " 54.598150033144236,\n",
       " 148.4131591025766,\n",
       " 403.42879349273511,\n",
       " 1096.6331584284585,\n",
       " 2980.9579870417283,\n",
       " 8103.0839275753842]"
      ]
     },
     "execution_count": 2,
     "metadata": {},
     "output_type": "execute_result"
    }
   ],
   "source": [
    "a = range(10)\n",
    "b = list(map(np.exp, a))\n",
    "b"
   ]
  },
  {
   "cell_type": "markdown",
   "metadata": {
    "slideshow": {
     "slide_type": "notes"
    }
   },
   "source": [
    "Say we have some fictitious data and a complicated function to transform each one of the observations, which takes a lot of parameters. Since we can apply this function to each of the observations independently, we can **map** the function to the data, potentially in a parallel fashion.\n",
    "\n",
    "Map operations can be done with `map` in Python, though it's usually better to do it some other way."
   ]
  },
  {
   "cell_type": "code",
   "execution_count": 3,
   "metadata": {
    "collapsed": true,
    "nbpresent": {
     "id": "5ba92a77-8e3a-4ee6-92e3-84855511220d"
    },
    "slideshow": {
     "slide_type": "slide"
    }
   },
   "outputs": [],
   "source": [
    "data = np.random.randn(5)\n",
    "\n",
    "def complicated_function(field, x, y, flim, flam, foo):\n",
    "    return np.sum((field, x, y, flim, flam)) / foo"
   ]
  },
  {
   "cell_type": "markdown",
   "metadata": {
    "slideshow": {
     "slide_type": "notes"
    }
   },
   "source": [
    "Naively `map`ping the function to the data doesn't work because it has the wrong number of parameters (i.e., it has the wrong arity)."
   ]
  },
  {
   "cell_type": "code",
   "execution_count": 4,
   "metadata": {
    "collapsed": false,
    "nbpresent": {
     "id": "67b90009-9220-4813-b49b-b576136ce7a9"
    },
    "slideshow": {
     "slide_type": "fragment"
    }
   },
   "outputs": [
    {
     "name": "stdout",
     "output_type": "stream",
     "text": [
      "Oops! That didn't work:\n",
      "complicated_function() missing 5 required positional arguments: 'x', 'y', 'flim', 'flam', and 'foo'\n"
     ]
    }
   ],
   "source": [
    "try:\n",
    "    new_data = map(complicated_function, data) # doesn't work!\n",
    "    list(new_data)\n",
    "except TypeError as e:\n",
    "    print(\"Oops! That didn't work:\")\n",
    "    print(e.args[0])"
   ]
  },
  {
   "cell_type": "markdown",
   "metadata": {
    "slideshow": {
     "slide_type": "notes"
    }
   },
   "source": [
    "Creating an anonymous function (a \"lambda\") to encapsulate the call is a popular option, with what many believe are significant readability problems."
   ]
  },
  {
   "cell_type": "markdown",
   "metadata": {
    "slideshow": {
     "slide_type": "slide"
    }
   },
   "source": [
    "#### Ugly"
   ]
  },
  {
   "cell_type": "code",
   "execution_count": 5,
   "metadata": {
    "collapsed": true,
    "slideshow": {
     "slide_type": "-"
    }
   },
   "outputs": [],
   "source": [
    "settings = { 'x': 1, 'y': 10, 'flim': 100, 'flam': 1000, 'foo': 1e5 }"
   ]
  },
  {
   "cell_type": "code",
   "execution_count": 6,
   "metadata": {
    "collapsed": false,
    "nbpresent": {
     "id": "626c86ca-cc9d-4d98-8aef-b6f61cf780f0"
    },
    "slideshow": {
     "slide_type": "-"
    }
   },
   "outputs": [
    {
     "data": {
      "text/plain": [
       "[0.011110338835955892,\n",
       " 0.011110420525203427,\n",
       " 0.011101023068607803,\n",
       " 0.011111630074300927,\n",
       " 0.011108426697075145]"
      ]
     },
     "execution_count": 6,
     "metadata": {},
     "output_type": "execute_result"
    }
   ],
   "source": [
    "new_data = map(lambda a: complicated_function(a, **settings), data) \n",
    "list(new_data)"
   ]
  },
  {
   "cell_type": "markdown",
   "metadata": {
    "slideshow": {
     "slide_type": "fragment"
    }
   },
   "source": [
    "#### Even uglier"
   ]
  },
  {
   "cell_type": "code",
   "execution_count": 7,
   "metadata": {
    "collapsed": false
   },
   "outputs": [
    {
     "data": {
      "text/plain": [
       "[0.011110338835955892,\n",
       " 0.011110420525203427,\n",
       " 0.011101023068607803,\n",
       " 0.011111630074300927,\n",
       " 0.011108426697075145]"
      ]
     },
     "execution_count": 7,
     "metadata": {},
     "output_type": "execute_result"
    }
   ],
   "source": [
    "new_data = map(lambda a: \n",
    "     complicated_function(a, x=1, y=10, flim=100, flam=1000, foo=1e5), data)\n",
    "list(new_data)"
   ]
  },
  {
   "cell_type": "markdown",
   "metadata": {
    "slideshow": {
     "slide_type": "slide"
    }
   },
   "source": [
    "# A better way"
   ]
  },
  {
   "cell_type": "markdown",
   "metadata": {
    "slideshow": {
     "slide_type": "notes"
    }
   },
   "source": [
    "If you need to \"freeze\" certain settings in place, `functools.partial` creates a new callable, here with only one argument:"
   ]
  },
  {
   "cell_type": "code",
   "execution_count": 8,
   "metadata": {
    "collapsed": false,
    "nbpresent": {
     "id": "f770da7a-fdfa-4652-ae6f-467194e64b4c"
    },
    "slideshow": {
     "slide_type": "-"
    }
   },
   "outputs": [
    {
     "data": {
      "text/plain": [
       "[0.011110338835955892,\n",
       " 0.011110420525203427,\n",
       " 0.011101023068607803,\n",
       " 0.011111630074300927,\n",
       " 0.011108426697075145]"
      ]
     },
     "execution_count": 8,
     "metadata": {},
     "output_type": "execute_result"
    }
   ],
   "source": [
    "# door 3\n",
    "simple_function = partial(complicated_function, **settings)\n",
    "new_data = map(simple_function, data) # works and it's readable!\n",
    "list(new_data)"
   ]
  },
  {
   "cell_type": "markdown",
   "metadata": {
    "nbpresent": {
     "id": "d769edf3-d2c3-4c51-b2ae-1b3d7f181a67"
    },
    "slideshow": {
     "slide_type": "slide"
    }
   },
   "source": [
    "# Operators all have named functional equivalents"
   ]
  },
  {
   "cell_type": "markdown",
   "metadata": {
    "slideshow": {
     "slide_type": "notes"
    }
   },
   "source": [
    "Some of the most common functions you need to pass to distributed systems are binary arithmetic operations. The `operator` library has a number of named functions for just this purpose."
   ]
  },
  {
   "cell_type": "code",
   "execution_count": 9,
   "metadata": {
    "collapsed": true,
    "nbpresent": {
     "id": "bcbc3869-76e5-4ab5-9582-b255b33a5ac9"
    },
    "slideshow": {
     "slide_type": "fragment"
    }
   },
   "outputs": [],
   "source": [
    "from operator import add, mul, truediv, floordiv\n",
    "from functools import reduce"
   ]
  },
  {
   "cell_type": "code",
   "execution_count": 10,
   "metadata": {
    "collapsed": false,
    "nbpresent": {
     "id": "cf89cdb9-c254-4b0b-8ce0-01797b63c5a9"
    },
    "slideshow": {
     "slide_type": "fragment"
    }
   },
   "outputs": [
    {
     "name": "stdout",
     "output_type": "stream",
     "text": [
      "6\n"
     ]
    }
   ],
   "source": [
    "print(reduce(lambda a, b: a * b, [1, 2, 3]))"
   ]
  },
  {
   "cell_type": "code",
   "execution_count": 11,
   "metadata": {
    "collapsed": false,
    "nbpresent": {
     "id": "61ae5307-5502-4657-89c5-dda61375decd"
    },
    "scrolled": true,
    "slideshow": {
     "slide_type": "fragment"
    }
   },
   "outputs": [
    {
     "name": "stdout",
     "output_type": "stream",
     "text": [
      "6\n"
     ]
    }
   ],
   "source": [
    "print(reduce(mul, [1, 2, 3]))"
   ]
  },
  {
   "cell_type": "markdown",
   "metadata": {
    "collapsed": true,
    "nbpresent": {
     "id": "5e021261-fc1a-4e54-8e55-e267541bf61a"
    },
    "slideshow": {
     "slide_type": "slide"
    }
   },
   "source": [
    "# (And a quick reminder)\n",
    "\n",
    "## lambda \\*args: *f* (\\*args) <==> *f*"
   ]
  },
  {
   "cell_type": "code",
   "execution_count": 12,
   "metadata": {
    "collapsed": false,
    "nbpresent": {
     "id": "baf5f06d-9005-47b6-adcd-49a5b9e69428"
    },
    "slideshow": {
     "slide_type": "fragment"
    }
   },
   "outputs": [
    {
     "data": {
      "text/plain": [
       "[4, 9, 16]"
      ]
     },
     "execution_count": 12,
     "metadata": {},
     "output_type": "execute_result"
    }
   ],
   "source": [
    "def f(x):\n",
    "    return x**2\n",
    "\n",
    "list(map(lambda x: f(x), [2,3,4]))"
   ]
  },
  {
   "cell_type": "code",
   "execution_count": 13,
   "metadata": {
    "collapsed": false,
    "nbpresent": {
     "id": "2ab64593-ad62-47cb-b1e4-7f037b610f22"
    },
    "scrolled": true,
    "slideshow": {
     "slide_type": "fragment"
    }
   },
   "outputs": [
    {
     "data": {
      "text/plain": [
       "[4, 9, 16]"
      ]
     },
     "execution_count": 13,
     "metadata": {},
     "output_type": "execute_result"
    }
   ],
   "source": [
    "list(map(f, [2,3,4]))"
   ]
  },
  {
   "cell_type": "markdown",
   "metadata": {
    "slideshow": {
     "slide_type": "slide"
    }
   },
   "source": []
  },
  {
   "cell_type": "markdown",
   "metadata": {
    "nbpresent": {
     "id": "d54d2f29-1566-471a-827b-62b9e27f97f5"
    },
    "slideshow": {
     "slide_type": "slide"
    }
   },
   "source": [
    "# DIY natural language processing"
   ]
  },
  {
   "cell_type": "code",
   "execution_count": 14,
   "metadata": {
    "collapsed": false,
    "nbpresent": {
     "id": "b72c5bc5-a890-4089-ac4b-2950c6ab76d0"
    },
    "slideshow": {
     "slide_type": "fragment"
    }
   },
   "outputs": [],
   "source": [
    "with open('t8.shakespeare.txt') as f:\n",
    "    shakes = f.read()\n",
    "sample = shakes[10300:10500]"
   ]
  },
  {
   "cell_type": "code",
   "execution_count": 15,
   "metadata": {
    "collapsed": true,
    "nbpresent": {
     "id": "738a456d-1f5e-4d2f-8f7e-9cc859013af5"
    },
    "slideshow": {
     "slide_type": "fragment"
    }
   },
   "outputs": [],
   "source": [
    "import re\n",
    "\n",
    "def normalize(txt):\n",
    "    return txt.lower()\n",
    "def tokenize(txt):\n",
    "    return re.sub(r\"\"\"(([;.!?,'\":]|--)+)\"\"\",\n",
    "             r\" \\1 \",\n",
    "             txt)"
   ]
  },
  {
   "cell_type": "markdown",
   "metadata": {
    "slideshow": {
     "slide_type": "slide"
    }
   },
   "source": [
    "# Tokenization"
   ]
  },
  {
   "cell_type": "code",
   "execution_count": 16,
   "metadata": {
    "collapsed": false,
    "nbpresent": {
     "id": "992048ff-76b6-494b-8725-80d60821bfff"
    },
    "slideshow": {
     "slide_type": "fragment"
    }
   },
   "outputs": [
    {
     "name": "stdout",
     "output_type": "stream",
     "text": [
      "  With means more blessed than my barren rhyme?\n",
      "  Now stand you on the top of happy hours,\n",
      "  And many maiden gardens yet unset,\n",
      "  With virtuous wish would bear you living flowers,\n",
      "  Much liker than yo\n"
     ]
    }
   ],
   "source": [
    "print(sample)"
   ]
  },
  {
   "cell_type": "code",
   "execution_count": 17,
   "metadata": {
    "collapsed": false,
    "nbpresent": {
     "id": "8452ac51-7076-42cb-9e93-d2bde711da71"
    },
    "slideshow": {
     "slide_type": "fragment"
    }
   },
   "outputs": [
    {
     "name": "stdout",
     "output_type": "stream",
     "text": [
      "  With means more blessed than my barren rhyme ? \n",
      "  Now stand you on the top of happy hours , \n",
      "  And many maiden gardens yet unset , \n",
      "  With virtuous wish would bear you living flowers , \n",
      "  Much liker than yo\n"
     ]
    }
   ],
   "source": [
    "print(tokenize(sample))"
   ]
  },
  {
   "cell_type": "code",
   "execution_count": 18,
   "metadata": {
    "collapsed": false,
    "nbpresent": {
     "id": "13404c1e-c573-44f6-b610-0e5ad4bb1a8f"
    },
    "slideshow": {
     "slide_type": "fragment"
    }
   },
   "outputs": [
    {
     "name": "stdout",
     "output_type": "stream",
     "text": [
      "  with means more blessed than my barren rhyme ? \n",
      "  now stand you on the top of happy hours , \n",
      "  and many maiden gardens yet unset , \n",
      "  with virtuous wish would bear you living flowers , \n",
      "  much liker than yo\n"
     ]
    }
   ],
   "source": [
    "print(normalize(tokenize(sample)))"
   ]
  },
  {
   "cell_type": "code",
   "execution_count": 19,
   "metadata": {
    "collapsed": false,
    "nbpresent": {
     "id": "0b23c85e-caa9-4580-93be-7f7c71cde0a2"
    },
    "slideshow": {
     "slide_type": "fragment"
    }
   },
   "outputs": [
    {
     "name": "stdout",
     "output_type": "stream",
     "text": [
      "['with', 'means', 'more', 'blessed', 'than', 'my', 'barren', 'rhyme', '?', 'now', 'stand', 'you', 'on', 'the', 'top', 'of', 'happy', 'hours', ',', 'and']\n"
     ]
    }
   ],
   "source": [
    "print(normalize(tokenize(sample)).split()[:20])"
   ]
  },
  {
   "cell_type": "markdown",
   "metadata": {
    "nbpresent": {
     "id": "5452c238-09ac-4b8b-af50-e681b18a2038"
    },
    "slideshow": {
     "slide_type": "slide"
    }
   },
   "source": [
    "Tokenize everything:"
   ]
  },
  {
   "cell_type": "code",
   "execution_count": 20,
   "metadata": {
    "collapsed": true,
    "nbpresent": {
     "id": "e7a4884b-32dd-47c1-8294-a7ad1ebcf287"
    }
   },
   "outputs": [],
   "source": [
    "all_tokens = normalize(tokenize(shakes)).split()"
   ]
  },
  {
   "cell_type": "markdown",
   "metadata": {
    "nbpresent": {
     "id": "915c44e1-8e41-4fe3-9948-291e4e4013d2"
    },
    "slideshow": {
     "slide_type": "slide"
    }
   },
   "source": [
    "# `collections.Counter`\n",
    "Fast vocabulary extraction:"
   ]
  },
  {
   "cell_type": "code",
   "execution_count": 21,
   "metadata": {
    "collapsed": false,
    "nbpresent": {
     "id": "cc9c4c87-fd62-40c0-8c9c-e0a56a9274eb"
    }
   },
   "outputs": [
    {
     "name": "stdout",
     "output_type": "stream",
     "text": [
      "Most common words:\n"
     ]
    },
    {
     "data": {
      "text/plain": [
       "['our', 'lord', 'o', 'king', 'good', 'now', 'sir', 'from', 'come', 'at']"
      ]
     },
     "execution_count": 21,
     "metadata": {},
     "output_type": "execute_result"
    }
   ],
   "source": [
    "from collections import Counter\n",
    "\n",
    "vocabulary = [a[0] for a in Counter(all_tokens).most_common(5050)[50:]]\n",
    "print(\"Most common words:\")\n",
    "vocabulary[:10]"
   ]
  },
  {
   "cell_type": "code",
   "execution_count": 22,
   "metadata": {
    "collapsed": false,
    "nbpresent": {
     "id": "580f454a-797c-488c-8150-5085fa5fb342"
    }
   },
   "outputs": [
    {
     "name": "stdout",
     "output_type": "stream",
     "text": [
      "Least common:\n"
     ]
    },
    {
     "data": {
      "text/plain": [
       "['son-',\n",
       " 'favor',\n",
       " 'proudly',\n",
       " 'glories',\n",
       " 'birnam',\n",
       " 'folks',\n",
       " 'britons',\n",
       " 'inches',\n",
       " 'pupil',\n",
       " 'ending']"
      ]
     },
     "execution_count": 22,
     "metadata": {},
     "output_type": "execute_result"
    }
   ],
   "source": [
    "print(\"Least common:\")\n",
    "vocabulary[-10:]"
   ]
  },
  {
   "cell_type": "code",
   "execution_count": 23,
   "metadata": {
    "collapsed": false,
    "nbpresent": {
     "id": "51817bfe-3cf4-4550-b1a6-44b064c2e84d"
    },
    "slideshow": {
     "slide_type": "skip"
    }
   },
   "outputs": [],
   "source": [
    "with open(\"richardiiii.txt\") as f:\n",
    "    richard3 = f.read()\n",
    "with open(\"hamlet.txt\") as f:\n",
    "    hamlet = f.read()\n",
    "with open(\"asyoulikeit.txt\") as f:\n",
    "    asyoulikeit = f.read()"
   ]
  },
  {
   "cell_type": "code",
   "execution_count": 24,
   "metadata": {
    "collapsed": true,
    "nbpresent": {
     "id": "74ebe033-aacd-450c-9e11-d01f20f7b828"
    },
    "slideshow": {
     "slide_type": "skip"
    }
   },
   "outputs": [],
   "source": [
    "richard3_tokens = normalize(tokenize(richard3)).split()\n",
    "hamlet_tokens = normalize(tokenize(hamlet)).split()\n",
    "asyoulikeit_tokens = normalize(tokenize(asyoulikeit)).split()"
   ]
  },
  {
   "cell_type": "markdown",
   "metadata": {
    "collapsed": true,
    "slideshow": {
     "slide_type": "slide"
    }
   },
   "source": [
    "# Bags of words"
   ]
  },
  {
   "cell_type": "code",
   "execution_count": 63,
   "metadata": {
    "collapsed": false,
    "nbpresent": {
     "id": "24bcbcba-ba94-4720-80a8-5b71bd767b77"
    },
    "slideshow": {
     "slide_type": "-"
    }
   },
   "outputs": [
    {
     "data": {
      "text/plain": [
       "array([119, 242,  98, 267, 119])"
      ]
     },
     "execution_count": 63,
     "metadata": {},
     "output_type": "execute_result"
    }
   ],
   "source": [
    "def bow(tokens, vocabulary):\n",
    "    counts = Counter(token for token in tokens)\n",
    "    return np.array([counts[token] for token in vocabulary])\n",
    "\n",
    "richard3_bow = bow(richard3_tokens, vocabulary)\n",
    "richard3_bow[:5]"
   ]
  },
  {
   "cell_type": "code",
   "execution_count": 64,
   "metadata": {
    "collapsed": false,
    "nbpresent": {
     "id": "76392108-5e22-4b45-adec-197fd9e73df0"
    },
    "slideshow": {
     "slide_type": "skip"
    }
   },
   "outputs": [],
   "source": [
    "hamlet_bow = bow(hamlet_tokens, vocabulary)\n",
    "asyoulikeit_bow = bow(asyoulikeit_tokens, vocabulary)"
   ]
  },
  {
   "cell_type": "code",
   "execution_count": 27,
   "metadata": {
    "collapsed": false,
    "nbpresent": {
     "id": "6a6441a6-7a8f-4f9b-aa52-84d168ca5cbc"
    },
    "slideshow": {
     "slide_type": "fragment"
    }
   },
   "outputs": [
    {
     "name": "stdout",
     "output_type": "stream",
     "text": [
      "Hamlet vs. As You Like It:  0.499961805901\n",
      "Hamlet vs. Richard III:  0.623157590376\n"
     ]
    }
   ],
   "source": [
    "def norm(a):\n",
    "    return np.sqrt(np.sum(a ** 2))\n",
    "def cosine_similarity(a, b):\n",
    "    return (a @ b) / (norm(a) * norm(b))\n",
    "\n",
    "print(\"Hamlet vs. As You Like It: \", cosine_similarity(hamlet_bow, asyoulikeit_bow))\n",
    "print(\"Hamlet vs. Richard III: \", cosine_similarity(hamlet_bow, richard3_bow))"
   ]
  },
  {
   "cell_type": "code",
   "execution_count": 28,
   "metadata": {
    "collapsed": false,
    "nbpresent": {
     "id": "adcf04eb-e7bd-4bed-a8dd-bfed542b9375"
    },
    "scrolled": false,
    "slideshow": {
     "slide_type": "fragment"
    }
   },
   "outputs": [
    {
     "name": "stdout",
     "output_type": "stream",
     "text": [
      "As You Like It vs. Richard III:  0.586104685068\n"
     ]
    }
   ],
   "source": [
    "print(\"As You Like It vs. Richard III: \", cosine_similarity(asyoulikeit_bow, richard3_bow))"
   ]
  },
  {
   "cell_type": "code",
   "execution_count": 29,
   "metadata": {
    "collapsed": false,
    "slideshow": {
     "slide_type": "notes"
    }
   },
   "outputs": [
    {
     "name": "stdout",
     "output_type": "stream",
     "text": [
      "Hamlet vs. As You Like It:  0.642760985573\n",
      "Hamlet vs. Richard III:  0.656169857146\n",
      "As You Like It vs. Richard III:  0.632834763221\n"
     ]
    }
   ],
   "source": [
    "# Binary BOW digression \n",
    "hamlet_bow = (hamlet_bow != 0).astype(int)\n",
    "asyoulikeit_bow = (asyoulikeit_bow != 0).astype(int)\n",
    "richard3_bow = (richard3_bow != 0).astype(int)\n",
    "print(\"Hamlet vs. As You Like It: \", cosine_similarity(hamlet_bow, asyoulikeit_bow))\n",
    "print(\"Hamlet vs. Richard III: \", cosine_similarity(hamlet_bow, richard3_bow))\n",
    "print(\"As You Like It vs. Richard III: \", cosine_similarity(asyoulikeit_bow, richard3_bow))"
   ]
  },
  {
   "cell_type": "markdown",
   "metadata": {
    "slideshow": {
     "slide_type": "slide"
    }
   },
   "source": [
    "# Persistence"
   ]
  },
  {
   "cell_type": "markdown",
   "metadata": {
    "slideshow": {
     "slide_type": "fragment"
    }
   },
   "source": [
    "## `pickle`... right?"
   ]
  },
  {
   "cell_type": "code",
   "execution_count": 30,
   "metadata": {
    "collapsed": true
   },
   "outputs": [],
   "source": [
    "import shelve"
   ]
  },
  {
   "cell_type": "code",
   "execution_count": 31,
   "metadata": {
    "collapsed": false,
    "slideshow": {
     "slide_type": "slide"
    }
   },
   "outputs": [],
   "source": [
    "with shelve.open(\"shakespeare\") as f:\n",
    "    f['richard iii'] = richard3\n",
    "    f['hamlet'] = hamlet\n",
    "    f['as you like it'] = asyoulikeit"
   ]
  },
  {
   "cell_type": "code",
   "execution_count": 32,
   "metadata": {
    "collapsed": false,
    "slideshow": {
     "slide_type": "fragment"
    }
   },
   "outputs": [
    {
     "name": "stdout",
     "output_type": "stream",
     "text": [
      "  Dar'd to the combat; in which our valiant Hamlet\n",
      "    (For so this side of our known world esteem'd\n"
     ]
    }
   ],
   "source": [
    "with shelve.open(\"shakespeare\", \"r\") as f:\n",
    "    print(f['hamlet'][5100:5200])"
   ]
  },
  {
   "cell_type": "markdown",
   "metadata": {
    "slideshow": {
     "slide_type": "fragment"
    }
   },
   "source": [
    "### cf. `h5py` for storing data, `redis-py` etc. for other key-value store interfaces"
   ]
  },
  {
   "cell_type": "markdown",
   "metadata": {
    "nbpresent": {
     "id": "4addeda8-1b0c-4ea0-8687-9c269cc2cdf9"
    },
    "slideshow": {
     "slide_type": "slide"
    }
   },
   "source": [
    "# Mini-batching\n"
   ]
  },
  {
   "cell_type": "markdown",
   "metadata": {
    "slideshow": {
     "slide_type": "notes"
    }
   },
   "source": [
    "Another common task is taking a large number of observations and parceling them out a certain bit at a time, for example in order to maximally exploit limited GPU memory."
   ]
  },
  {
   "cell_type": "markdown",
   "metadata": {
    "collapsed": false,
    "slideshow": {
     "slide_type": "slide"
    }
   },
   "source": [
    "# `itertools.islice`"
   ]
  },
  {
   "cell_type": "code",
   "execution_count": 65,
   "metadata": {
    "collapsed": false,
    "slideshow": {
     "slide_type": "skip"
    }
   },
   "outputs": [],
   "source": [
    "shakespeare_lines = shakes.split('\\n')\n",
    "np.random.shuffle(shakespeare_lines)\n",
    "minibatch_size = 5"
   ]
  },
  {
   "cell_type": "code",
   "execution_count": 66,
   "metadata": {
    "collapsed": false,
    "slideshow": {
     "slide_type": "fragment"
    }
   },
   "outputs": [
    {
     "data": {
      "text/plain": [
       "<itertools.islice at 0x10eb9eb88>"
      ]
     },
     "execution_count": 66,
     "metadata": {},
     "output_type": "execute_result"
    }
   ],
   "source": [
    "from itertools import islice\n",
    "islice(shakespeare_lines, minibatch_size)"
   ]
  },
  {
   "cell_type": "code",
   "execution_count": 35,
   "metadata": {
    "collapsed": false,
    "nbpresent": {
     "id": "b968e47e-d43b-4f11-996c-9196e29308fa"
    },
    "slideshow": {
     "slide_type": "fragment"
    }
   },
   "outputs": [
    {
     "data": {
      "text/plain": [
       "['    Yoke-fellow to his honour-owing wounds,',\n",
       " '    of hair; they call themselves Saltiers, and they have dance which',\n",
       " \"    I do retort the 'solus' in thy bowels;\",\n",
       " \"    Have left me issueless; and your father's blest,\",\n",
       " '']"
      ]
     },
     "execution_count": 35,
     "metadata": {},
     "output_type": "execute_result"
    }
   ],
   "source": [
    "list(islice(shakespeare_lines, minibatch_size))"
   ]
  },
  {
   "cell_type": "code",
   "execution_count": 36,
   "metadata": {
    "collapsed": false,
    "nbpresent": {
     "id": "92dd5320-f512-4f5c-a9d7-1a44382de534"
    },
    "slideshow": {
     "slide_type": "fragment"
    }
   },
   "outputs": [
    {
     "data": {
      "text/plain": [
       "['    Yoke-fellow to his honour-owing wounds,',\n",
       " '    of hair; they call themselves Saltiers, and they have dance which',\n",
       " \"    I do retort the 'solus' in thy bowels;\",\n",
       " \"    Have left me issueless; and your father's blest,\",\n",
       " '']"
      ]
     },
     "execution_count": 36,
     "metadata": {},
     "output_type": "execute_result"
    }
   ],
   "source": [
    "list(islice(shakespeare_lines, minibatch_size))"
   ]
  },
  {
   "cell_type": "markdown",
   "metadata": {
    "nbpresent": {
     "id": "daa2b81b-7db1-44f1-818a-aea10937f922"
    },
    "slideshow": {
     "slide_type": "fragment"
    }
   },
   "source": [
    "#### Pop quiz!"
   ]
  },
  {
   "cell_type": "code",
   "execution_count": 37,
   "metadata": {
    "collapsed": true,
    "nbpresent": {
     "id": "4ead39f3-c007-490b-a610-3e6c15076775"
    },
    "slideshow": {
     "slide_type": "slide"
    }
   },
   "outputs": [],
   "source": [
    "lines_iter = iter(shakespeare_lines)"
   ]
  },
  {
   "cell_type": "markdown",
   "metadata": {
    "nbpresent": {
     "id": "6f9f248c-91a4-4572-8eb1-faf675ceb044"
    },
    "slideshow": {
     "slide_type": "fragment"
    }
   },
   "source": [
    "### What is this doing?"
   ]
  },
  {
   "cell_type": "code",
   "execution_count": 38,
   "metadata": {
    "collapsed": false,
    "nbpresent": {
     "id": "d1799a0a-1e4f-4d32-b226-7e8671be8392"
    },
    "slideshow": {
     "slide_type": "slide"
    }
   },
   "outputs": [
    {
     "data": {
      "text/plain": [
       "['    Yoke-fellow to his honour-owing wounds,',\n",
       " '    of hair; they call themselves Saltiers, and they have dance which',\n",
       " \"    I do retort the 'solus' in thy bowels;\",\n",
       " \"    Have left me issueless; and your father's blest,\",\n",
       " '']"
      ]
     },
     "execution_count": 38,
     "metadata": {},
     "output_type": "execute_result"
    }
   ],
   "source": [
    "list(islice(lines_iter, minibatch_size))"
   ]
  },
  {
   "cell_type": "code",
   "execution_count": 39,
   "metadata": {
    "collapsed": false,
    "nbpresent": {
     "id": "0f6c4409-303f-416f-a067-000082251920"
    },
    "slideshow": {
     "slide_type": "fragment"
    }
   },
   "outputs": [
    {
     "data": {
      "text/plain": [
       "['  PETRUCHIO. Nay, I will win my wager better yet,',\n",
       " '',\n",
       " '    That whiles Verona by that name is known,',\n",
       " '    Farewell, my blood; which if to-day thou shed,',\n",
       " '  IAGO.                Should you do so, my lord,']"
      ]
     },
     "execution_count": 39,
     "metadata": {},
     "output_type": "execute_result"
    }
   ],
   "source": [
    "list(islice(lines_iter, minibatch_size))"
   ]
  },
  {
   "cell_type": "code",
   "execution_count": 40,
   "metadata": {
    "collapsed": false,
    "nbpresent": {
     "id": "ac564542-8665-4257-9dac-cfe7191bf4bc"
    },
    "slideshow": {
     "slide_type": "fragment"
    }
   },
   "outputs": [
    {
     "data": {
      "text/plain": [
       "['  IMOGEN. But that you shall not say I yield, being silent,',\n",
       " \"    Take each man's censure, but reserve thy judgment.\",\n",
       " '    I will not taint my mouth with.',\n",
       " '  Bene. Gallants, I am not as I have been.',\n",
       " '  Then gentle cheater urge not my amiss,']"
      ]
     },
     "execution_count": 40,
     "metadata": {},
     "output_type": "execute_result"
    }
   ],
   "source": [
    "list(islice(lines_iter, minibatch_size))"
   ]
  },
  {
   "cell_type": "markdown",
   "metadata": {
    "nbpresent": {
     "id": "af5467bd-da80-4e46-9a72-7a45c11838e0"
    },
    "slideshow": {
     "slide_type": "slide"
    }
   },
   "source": [
    "## So...\n",
    "### If you have an iterator over individual examples, you have basic mini-batching in one line"
   ]
  },
  {
   "cell_type": "markdown",
   "metadata": {
    "nbpresent": {
     "id": "244bb617-502a-400a-83f2-6cb16c4cfbde"
    },
    "slideshow": {
     "slide_type": "fragment"
    }
   },
   "source": [
    "### Even if they are out-of-core, infinite, being hand-entered in real time by an army of rats... "
   ]
  },
  {
   "cell_type": "code",
   "execution_count": 41,
   "metadata": {
    "collapsed": true,
    "slideshow": {
     "slide_type": "notes"
    }
   },
   "outputs": [],
   "source": [
    "class MinibatchIterator:\n",
    "    def __init__(self, x, batch_size):\n",
    "        self.x = iter(x)\n",
    "        self.batch_size = batch_size\n",
    "\n",
    "    def __iter__(self):\n",
    "        return self\n",
    "    \n",
    "    def __next__(self):\n",
    "        return islice(self.x, self.batch_size)"
   ]
  },
  {
   "cell_type": "markdown",
   "metadata": {
    "slideshow": {
     "slide_type": "slide"
    }
   },
   "source": []
  },
  {
   "cell_type": "markdown",
   "metadata": {
    "nbpresent": {
     "id": "56898292-49dd-43a6-9af0-de0928804471"
    },
    "slideshow": {
     "slide_type": "slide"
    }
   },
   "source": [
    "# When something doesn't work\n",
    "\n",
    "## (Or, Erring out your grievances)"
   ]
  },
  {
   "cell_type": "code",
   "execution_count": null,
   "metadata": {
    "collapsed": true,
    "slideshow": {
     "slide_type": "skip"
    }
   },
   "outputs": [],
   "source": [
    "import sys\n",
    "import importlib\n",
    "import logging\n",
    "importlib.reload(logging)\n",
    "logging.basicConfig(level=logging.DEBUG, format='(Root Logger) %(levelname)s - %(message)s')"
   ]
  },
  {
   "cell_type": "code",
   "execution_count": 69,
   "metadata": {
    "collapsed": false,
    "nbpresent": {
     "id": "8f1ac627-9255-477b-bafa-cfa7a431140d"
    },
    "slideshow": {
     "slide_type": "slide"
    }
   },
   "outputs": [
    {
     "name": "stdout",
     "output_type": "stream",
     "text": [
      "PROBLEM\n"
     ]
    }
   ],
   "source": [
    "logging.debug(\"PROBLEM\")\n",
    "print(\"PROBLEM\")"
   ]
  },
  {
   "cell_type": "markdown",
   "metadata": {
    "slideshow": {
     "slide_type": "fragment"
    }
   },
   "source": [
    "## Why not print?"
   ]
  },
  {
   "cell_type": "markdown",
   "metadata": {
    "slideshow": {
     "slide_type": "notes"
    }
   },
   "source": [
    "A logger's **level** affects which messages it handles:"
   ]
  },
  {
   "cell_type": "code",
   "execution_count": 68,
   "metadata": {
    "collapsed": false,
    "slideshow": {
     "slide_type": "slide"
    }
   },
   "outputs": [
    {
     "name": "stderr",
     "output_type": "stream",
     "text": [
      "Logging level: 10\n",
      "(Root Logger) DEBUG - 1\n",
      "(Root Logger) INFO - 2\n",
      "(Root Logger) WARNING - 3\n",
      "(Root Logger) ERROR - 4\n",
      "(Root Logger) CRITICAL - 5\n",
      "\n",
      "Logging level: 20\n",
      "(Root Logger) INFO - 2\n",
      "(Root Logger) WARNING - 3\n",
      "(Root Logger) ERROR - 4\n",
      "(Root Logger) CRITICAL - 5\n",
      "\n",
      "Logging level: 30\n",
      "(Root Logger) WARNING - 3\n",
      "(Root Logger) ERROR - 4\n",
      "(Root Logger) CRITICAL - 5\n",
      "\n",
      "Logging level: 40\n",
      "(Root Logger) ERROR - 4\n",
      "(Root Logger) CRITICAL - 5\n",
      "\n",
      "Logging level: 50\n",
      "(Root Logger) CRITICAL - 5\n",
      "\n"
     ]
    }
   ],
   "source": [
    "import sys\n",
    "for level in (logging.DEBUG, logging.INFO, logging.WARNING, logging.ERROR, logging.CRITICAL):\n",
    "    print(\"Logging level: {}\".format(level), file=sys.stderr)\n",
    "    # Set level of root logger\n",
    "    logging.getLogger().setLevel(level)\n",
    "    logging.debug(\"1\")\n",
    "    logging.info(\"2\")\n",
    "    logging.warning(\"3\")\n",
    "    logging.error(\"4\")\n",
    "    logging.critical(\"5\")\n",
    "    print(\"\", file=sys.stderr)"
   ]
  },
  {
   "cell_type": "code",
   "execution_count": 45,
   "metadata": {
    "collapsed": true,
    "slideshow": {
     "slide_type": "skip"
    }
   },
   "outputs": [],
   "source": [
    "# Set level of root logger back to 10\n",
    "logging.getLogger().setLevel(logging.DEBUG)"
   ]
  },
  {
   "cell_type": "markdown",
   "metadata": {
    "slideshow": {
     "slide_type": "slide"
    }
   },
   "source": [
    "# Handlers and Formatters"
   ]
  },
  {
   "cell_type": "code",
   "execution_count": 46,
   "metadata": {
    "collapsed": true,
    "slideshow": {
     "slide_type": "fragment"
    }
   },
   "outputs": [],
   "source": [
    "logger = logging.getLogger(\"main_logger\")\n",
    "logger.handlers = []\n",
    "console = logging.StreamHandler()\n",
    "console.setLevel(logging.DEBUG)\n",
    "console.setFormatter(\n",
    "    logging.Formatter('%(asctime)s - %(name)s - %(levelname)s - %(message)s'))\n",
    "logger.addHandler(console)"
   ]
  },
  {
   "cell_type": "code",
   "execution_count": 47,
   "metadata": {
    "collapsed": false,
    "nbpresent": {
     "id": "5fd5fc91-765b-43ba-bf93-9439d8d14def"
    },
    "slideshow": {
     "slide_type": "fragment"
    }
   },
   "outputs": [
    {
     "name": "stderr",
     "output_type": "stream",
     "text": [
      "2016-10-17 17:12:15,425 - main_logger - DEBUG - Barf\n",
      "(Root Logger) DEBUG - Barf\n"
     ]
    }
   ],
   "source": [
    "try:\n",
    "    1/0\n",
    "except:\n",
    "    logger.debug(\"Barf\")"
   ]
  },
  {
   "cell_type": "markdown",
   "metadata": {
    "slideshow": {
     "slide_type": "fragment"
    }
   },
   "source": [
    "### Levels belong to Handlers"
   ]
  },
  {
   "cell_type": "markdown",
   "metadata": {
    "slideshow": {
     "slide_type": "slide"
    }
   },
   "source": [
    "# Ancestors and Children"
   ]
  },
  {
   "cell_type": "code",
   "execution_count": 48,
   "metadata": {
    "collapsed": true,
    "nbpresent": {
     "id": "72b3fd3a-f98a-4df9-a58e-7aa27c70ff1b"
    },
    "slideshow": {
     "slide_type": "fragment"
    }
   },
   "outputs": [],
   "source": [
    "new_logger = logging.getLogger(\"main_logger.new_logger\")"
   ]
  },
  {
   "cell_type": "code",
   "execution_count": 49,
   "metadata": {
    "collapsed": true,
    "nbpresent": {
     "id": "844cd125-b32f-4925-a6aa-5bbc05a6863a"
    },
    "slideshow": {
     "slide_type": "skip"
    }
   },
   "outputs": [],
   "source": [
    "new_logger.handlers = []\n",
    "new_logger.propagate = True"
   ]
  },
  {
   "cell_type": "code",
   "execution_count": 50,
   "metadata": {
    "collapsed": false,
    "slideshow": {
     "slide_type": "fragment"
    }
   },
   "outputs": [
    {
     "name": "stdout",
     "output_type": "stream",
     "text": [
      "main_logger\n",
      "main_logger.new_logger\n"
     ]
    }
   ],
   "source": [
    "print(logger.name)\n",
    "print(new_logger.name)"
   ]
  },
  {
   "cell_type": "code",
   "execution_count": 51,
   "metadata": {
    "collapsed": false,
    "slideshow": {
     "slide_type": "fragment"
    }
   },
   "outputs": [
    {
     "data": {
      "text/plain": [
       "True"
      ]
     },
     "execution_count": 51,
     "metadata": {},
     "output_type": "execute_result"
    }
   ],
   "source": [
    "logger.getChild(\"new_logger\") is new_logger"
   ]
  },
  {
   "cell_type": "markdown",
   "metadata": {
    "slideshow": {
     "slide_type": "slide"
    }
   },
   "source": [
    "# Propagation"
   ]
  },
  {
   "cell_type": "code",
   "execution_count": 52,
   "metadata": {
    "collapsed": true,
    "nbpresent": {
     "id": "f354e7ed-b787-461b-aca5-c3856e2e2af1"
    },
    "slideshow": {
     "slide_type": "fragment"
    }
   },
   "outputs": [],
   "source": [
    "new_console = logging.StreamHandler()\n",
    "new_console.setFormatter(\n",
    "    logging.Formatter('%(asctime)s - %(name)s - %(levelname)s - *** %(message)s ***'))\n",
    "new_console.setLevel(logging.INFO)\n",
    "new_logger.addHandler(new_console)"
   ]
  },
  {
   "cell_type": "code",
   "execution_count": 53,
   "metadata": {
    "collapsed": false,
    "slideshow": {
     "slide_type": "fragment"
    }
   },
   "outputs": [
    {
     "name": "stderr",
     "output_type": "stream",
     "text": [
      "2016-10-17 17:12:15,475 - main_logger.new_logger - DEBUG - Barf\n",
      "(Root Logger) DEBUG - Barf\n"
     ]
    }
   ],
   "source": [
    "new_logger.debug(\"Barf\")"
   ]
  },
  {
   "cell_type": "code",
   "execution_count": 54,
   "metadata": {
    "collapsed": false,
    "nbpresent": {
     "id": "4a5cbb7d-c641-4531-b3ab-802bbbf98df3"
    },
    "slideshow": {
     "slide_type": "fragment"
    }
   },
   "outputs": [
    {
     "name": "stderr",
     "output_type": "stream",
     "text": [
      "2016-10-17 17:12:15,495 - main_logger.new_logger - INFO - *** Useful message ***\n",
      "2016-10-17 17:12:15,495 - main_logger.new_logger - INFO - Useful message\n",
      "(Root Logger) INFO - Useful message\n"
     ]
    }
   ],
   "source": [
    "new_logger.info(\"Useful message\")"
   ]
  },
  {
   "cell_type": "code",
   "execution_count": 55,
   "metadata": {
    "collapsed": true,
    "slideshow": {
     "slide_type": "slide"
    }
   },
   "outputs": [],
   "source": [
    "new_logger.propagate = False"
   ]
  },
  {
   "cell_type": "code",
   "execution_count": 56,
   "metadata": {
    "collapsed": true,
    "slideshow": {
     "slide_type": "fragment"
    }
   },
   "outputs": [],
   "source": [
    "new_logger.debug(\"Barf\")"
   ]
  },
  {
   "cell_type": "code",
   "execution_count": 57,
   "metadata": {
    "collapsed": false,
    "nbpresent": {
     "id": "92c40eb8-2391-460b-a6eb-19581e22049e"
    },
    "slideshow": {
     "slide_type": "fragment"
    }
   },
   "outputs": [
    {
     "name": "stderr",
     "output_type": "stream",
     "text": [
      "2016-10-17 17:12:15,514 - main_logger.new_logger - INFO - *** Useful message ***\n"
     ]
    }
   ],
   "source": [
    "new_logger.info(\"Useful message\")"
   ]
  },
  {
   "cell_type": "markdown",
   "metadata": {
    "slideshow": {
     "slide_type": "slide"
    }
   },
   "source": [
    "# Other handlers"
   ]
  },
  {
   "cell_type": "code",
   "execution_count": 58,
   "metadata": {
    "collapsed": true,
    "slideshow": {
     "slide_type": "skip"
    }
   },
   "outputs": [],
   "source": [
    "logging.getLogger(\"file_logger\").handlers=[]"
   ]
  },
  {
   "cell_type": "code",
   "execution_count": 59,
   "metadata": {
    "collapsed": true,
    "slideshow": {
     "slide_type": "fragment"
    }
   },
   "outputs": [],
   "source": [
    "formatter = logging.Formatter('%(asctime)s / %(name)s / %(levelname)s:  %(message)s')\n",
    "file_handler = logging.FileHandler(\"log.txt\", \"w\")\n",
    "file_handler.setFormatter(formatter)\n",
    "file_handler.setLevel(logging.INFO)\n",
    "logger = logging.getLogger(\"file_logger\")\n",
    "logger.addHandler(file_handler)"
   ]
  },
  {
   "cell_type": "code",
   "execution_count": 60,
   "metadata": {
    "collapsed": false,
    "slideshow": {
     "slide_type": "slide"
    }
   },
   "outputs": [
    {
     "name": "stderr",
     "output_type": "stream",
     "text": [
      "(Root Logger) DEBUG - This won't show up\n",
      "(Root Logger) INFO - FYI\n",
      "(Root Logger) WARNING - This is an error\n"
     ]
    }
   ],
   "source": [
    "logger.debug(\"This won't show up\")\n",
    "logger.info(\"FYI\")\n",
    "logger.warning(\"This is an error\")"
   ]
  },
  {
   "cell_type": "code",
   "execution_count": 61,
   "metadata": {
    "collapsed": false,
    "scrolled": true,
    "slideshow": {
     "slide_type": "fragment"
    }
   },
   "outputs": [
    {
     "name": "stdout",
     "output_type": "stream",
     "text": [
      "2016-10-17 17:12:15,550 / file_logger / INFO:  FYI\n",
      "2016-10-17 17:12:15,551 / file_logger / WARNING:  This is an error\n",
      "\n"
     ]
    }
   ],
   "source": [
    "with open(\"log.txt\") as log:\n",
    "    print(log.read())"
   ]
  },
  {
   "cell_type": "markdown",
   "metadata": {
    "slideshow": {
     "slide_type": "slide"
    }
   },
   "source": [
    "## Logstash handlers\n",
    "\n",
    "###  3rd-party library:  \n",
    "```pip install python-logstash```\n",
    "\n",
    "### Python:  \n",
    "```import logstash\n",
    "logger.addHandler(logstash.LogstashHandler(host, port, version=1))\n",
    "```"
   ]
  },
  {
   "cell_type": "markdown",
   "metadata": {
    "slideshow": {
     "slide_type": "slide"
    }
   },
   "source": []
  },
  {
   "cell_type": "markdown",
   "metadata": {
    "slideshow": {
     "slide_type": "slide"
    }
   },
   "source": []
  },
  {
   "cell_type": "code",
   "execution_count": 62,
   "metadata": {
    "collapsed": false
   },
   "outputs": [
    {
     "ename": "Exception",
     "evalue": "Error condition!",
     "output_type": "error",
     "traceback": [
      "\u001b[0;31m---------------------------------------------------------------------------\u001b[0m",
      "\u001b[0;31mException\u001b[0m                                 Traceback (most recent call last)",
      "\u001b[0;32m<ipython-input-62-b1f7b8711219>\u001b[0m in \u001b[0;36m<module>\u001b[0;34m()\u001b[0m\n\u001b[1;32m      3\u001b[0m \u001b[0;32mimport\u001b[0m \u001b[0mraise_error\u001b[0m\u001b[0;34m\u001b[0m\u001b[0m\n\u001b[1;32m      4\u001b[0m \u001b[0mimportlib\u001b[0m\u001b[0;34m.\u001b[0m\u001b[0mreload\u001b[0m\u001b[0;34m(\u001b[0m\u001b[0mraise_error\u001b[0m\u001b[0;34m)\u001b[0m\u001b[0;34m\u001b[0m\u001b[0m\n\u001b[0;32m----> 5\u001b[0;31m \u001b[0mraise_error\u001b[0m\u001b[0;34m.\u001b[0m\u001b[0ma\u001b[0m\u001b[0;34m(\u001b[0m\u001b[0;34m)\u001b[0m\u001b[0;34m\u001b[0m\u001b[0m\n\u001b[0m",
      "\u001b[0;32m/Users/patrickc/src/lunch_standard/raise_error.py\u001b[0m in \u001b[0;36ma\u001b[0;34m(*args, **kwargs)\u001b[0m\n\u001b[1;32m      1\u001b[0m \u001b[0;32mdef\u001b[0m \u001b[0ma\u001b[0m\u001b[0;34m(\u001b[0m\u001b[0;34m*\u001b[0m\u001b[0margs\u001b[0m\u001b[0;34m,\u001b[0m \u001b[0;34m**\u001b[0m\u001b[0mkwargs\u001b[0m\u001b[0;34m)\u001b[0m\u001b[0;34m:\u001b[0m\u001b[0;34m\u001b[0m\u001b[0m\n\u001b[0;32m----> 2\u001b[0;31m     \u001b[0mb\u001b[0m\u001b[0;34m(\u001b[0m\u001b[0;34m*\u001b[0m\u001b[0margs\u001b[0m\u001b[0;34m,\u001b[0m \u001b[0;34m**\u001b[0m\u001b[0mkwargs\u001b[0m\u001b[0;34m,\u001b[0m \u001b[0merror\u001b[0m\u001b[0;34m=\u001b[0m\u001b[0;32mTrue\u001b[0m\u001b[0;34m)\u001b[0m\u001b[0;34m\u001b[0m\u001b[0m\n\u001b[0m\u001b[1;32m      3\u001b[0m \u001b[0;34m\u001b[0m\u001b[0m\n\u001b[1;32m      4\u001b[0m \u001b[0;32mdef\u001b[0m \u001b[0mb\u001b[0m\u001b[0;34m(\u001b[0m\u001b[0;34m*\u001b[0m\u001b[0margs\u001b[0m\u001b[0;34m,\u001b[0m \u001b[0;34m**\u001b[0m\u001b[0mkwargs\u001b[0m\u001b[0;34m)\u001b[0m\u001b[0;34m:\u001b[0m\u001b[0;34m\u001b[0m\u001b[0m\n\u001b[1;32m      5\u001b[0m     \u001b[0mc\u001b[0m\u001b[0;34m(\u001b[0m\u001b[0;34m*\u001b[0m\u001b[0margs\u001b[0m\u001b[0;34m,\u001b[0m \u001b[0;34m**\u001b[0m\u001b[0mkwargs\u001b[0m\u001b[0;34m)\u001b[0m\u001b[0;34m\u001b[0m\u001b[0m\n",
      "\u001b[0;32m/Users/patrickc/src/lunch_standard/raise_error.py\u001b[0m in \u001b[0;36mb\u001b[0;34m(*args, **kwargs)\u001b[0m\n\u001b[1;32m      3\u001b[0m \u001b[0;34m\u001b[0m\u001b[0m\n\u001b[1;32m      4\u001b[0m \u001b[0;32mdef\u001b[0m \u001b[0mb\u001b[0m\u001b[0;34m(\u001b[0m\u001b[0;34m*\u001b[0m\u001b[0margs\u001b[0m\u001b[0;34m,\u001b[0m \u001b[0;34m**\u001b[0m\u001b[0mkwargs\u001b[0m\u001b[0;34m)\u001b[0m\u001b[0;34m:\u001b[0m\u001b[0;34m\u001b[0m\u001b[0m\n\u001b[0;32m----> 5\u001b[0;31m     \u001b[0mc\u001b[0m\u001b[0;34m(\u001b[0m\u001b[0;34m*\u001b[0m\u001b[0margs\u001b[0m\u001b[0;34m,\u001b[0m \u001b[0;34m**\u001b[0m\u001b[0mkwargs\u001b[0m\u001b[0;34m)\u001b[0m\u001b[0;34m\u001b[0m\u001b[0m\n\u001b[0m\u001b[1;32m      6\u001b[0m \u001b[0;34m\u001b[0m\u001b[0m\n\u001b[1;32m      7\u001b[0m \u001b[0;32mdef\u001b[0m \u001b[0mc\u001b[0m\u001b[0;34m(\u001b[0m\u001b[0;34m*\u001b[0m\u001b[0margs\u001b[0m\u001b[0;34m,\u001b[0m \u001b[0;34m**\u001b[0m\u001b[0mkwargs\u001b[0m\u001b[0;34m)\u001b[0m\u001b[0;34m:\u001b[0m\u001b[0;34m\u001b[0m\u001b[0m\n",
      "\u001b[0;32m/Users/patrickc/src/lunch_standard/raise_error.py\u001b[0m in \u001b[0;36mc\u001b[0;34m(*args, **kwargs)\u001b[0m\n\u001b[1;32m      6\u001b[0m \u001b[0;34m\u001b[0m\u001b[0m\n\u001b[1;32m      7\u001b[0m \u001b[0;32mdef\u001b[0m \u001b[0mc\u001b[0m\u001b[0;34m(\u001b[0m\u001b[0;34m*\u001b[0m\u001b[0margs\u001b[0m\u001b[0;34m,\u001b[0m \u001b[0;34m**\u001b[0m\u001b[0mkwargs\u001b[0m\u001b[0;34m)\u001b[0m\u001b[0;34m:\u001b[0m\u001b[0;34m\u001b[0m\u001b[0m\n\u001b[0;32m----> 8\u001b[0;31m     \u001b[0md\u001b[0m\u001b[0;34m(\u001b[0m\u001b[0;34m*\u001b[0m\u001b[0margs\u001b[0m\u001b[0;34m,\u001b[0m \u001b[0;34m**\u001b[0m\u001b[0mkwargs\u001b[0m\u001b[0;34m)\u001b[0m\u001b[0;34m\u001b[0m\u001b[0m\n\u001b[0m\u001b[1;32m      9\u001b[0m \u001b[0;34m\u001b[0m\u001b[0m\n\u001b[1;32m     10\u001b[0m \u001b[0;32mdef\u001b[0m \u001b[0md\u001b[0m\u001b[0;34m(\u001b[0m\u001b[0merror\u001b[0m\u001b[0;34m=\u001b[0m\u001b[0;32mFalse\u001b[0m\u001b[0;34m,\u001b[0m \u001b[0;34m*\u001b[0m\u001b[0margs\u001b[0m\u001b[0;34m,\u001b[0m \u001b[0;34m**\u001b[0m\u001b[0mkwargs\u001b[0m\u001b[0;34m)\u001b[0m\u001b[0;34m:\u001b[0m\u001b[0;34m\u001b[0m\u001b[0m\n",
      "\u001b[0;32m/Users/patrickc/src/lunch_standard/raise_error.py\u001b[0m in \u001b[0;36md\u001b[0;34m(error, *args, **kwargs)\u001b[0m\n\u001b[1;32m     10\u001b[0m \u001b[0;32mdef\u001b[0m \u001b[0md\u001b[0m\u001b[0;34m(\u001b[0m\u001b[0merror\u001b[0m\u001b[0;34m=\u001b[0m\u001b[0;32mFalse\u001b[0m\u001b[0;34m,\u001b[0m \u001b[0;34m*\u001b[0m\u001b[0margs\u001b[0m\u001b[0;34m,\u001b[0m \u001b[0;34m**\u001b[0m\u001b[0mkwargs\u001b[0m\u001b[0;34m)\u001b[0m\u001b[0;34m:\u001b[0m\u001b[0;34m\u001b[0m\u001b[0m\n\u001b[1;32m     11\u001b[0m     \u001b[0;32mif\u001b[0m \u001b[0merror\u001b[0m\u001b[0;34m:\u001b[0m\u001b[0;34m\u001b[0m\u001b[0m\n\u001b[0;32m---> 12\u001b[0;31m         \u001b[0;32mraise\u001b[0m \u001b[0mException\u001b[0m\u001b[0;34m(\u001b[0m\u001b[0;34m\"Error condition!\"\u001b[0m\u001b[0;34m)\u001b[0m\u001b[0;34m\u001b[0m\u001b[0m\n\u001b[0m",
      "\u001b[0;31mException\u001b[0m: Error condition!"
     ]
    }
   ],
   "source": [
    "import importlib\n",
    "import pdb\n",
    "import raise_error\n",
    "importlib.reload(raise_error)\n",
    "raise_error.a()"
   ]
  },
  {
   "cell_type": "raw",
   "metadata": {},
   "source": [
    "pdb.pm()"
   ]
  }
 ],
 "metadata": {
  "anaconda-cloud": {},
  "celltoolbar": "Slideshow",
  "kernelspec": {
   "display_name": "Python [Root]",
   "language": "python",
   "name": "Python [Root]"
  },
  "language_info": {
   "codemirror_mode": {
    "name": "ipython",
    "version": 3
   },
   "file_extension": ".py",
   "mimetype": "text/x-python",
   "name": "python",
   "nbconvert_exporter": "python",
   "pygments_lexer": "ipython3",
   "version": "3.5.1"
  },
  "nbpresent": {
   "slides": {
    "0603ff06-3de2-4c52-8534-3c6510ea5aaa": {
     "id": "0603ff06-3de2-4c52-8534-3c6510ea5aaa",
     "prev": "0b17f200-69c5-41de-aa3b-1e2f574491a4",
     "regions": {
      "c54180a0-8428-41ab-bab0-d9a7c9c4d638": {
       "attrs": {
        "height": 0.4,
        "width": 0.8,
        "x": 0.1,
        "y": 0.5
       },
       "content": {
        "cell": "d1a5020b-52b9-42b3-b0ae-39cab3c98dbe",
        "part": "whole"
       },
       "id": "c54180a0-8428-41ab-bab0-d9a7c9c4d638"
      },
      "dd349439-9b1e-4462-80df-459ec435aa76": {
       "attrs": {
        "height": 0.8,
        "width": 0.8,
        "x": 0.1,
        "y": 0.1
       },
       "content": {
        "cell": "37779323-cb8f-4a66-a8cf-2d02b34b6442",
        "part": "whole"
       },
       "id": "dd349439-9b1e-4462-80df-459ec435aa76"
      }
     }
    },
    "0b17f200-69c5-41de-aa3b-1e2f574491a4": {
     "id": "0b17f200-69c5-41de-aa3b-1e2f574491a4",
     "prev": "91299167-5093-4e2a-a5d7-dda7c291ded5",
     "regions": {
      "15265bd7-9a8f-465f-96e0-2ea236348531": {
       "attrs": {
        "height": 0.8,
        "width": 0.8,
        "x": 0.1,
        "y": 0.1
       },
       "content": {
        "cell": "4addeda8-1b0c-4ea0-8687-9c269cc2cdf9",
        "part": "whole"
       },
       "id": "15265bd7-9a8f-465f-96e0-2ea236348531"
      },
      "47faee53-9131-4e1e-ac84-8a3f746382db": {
       "attrs": {
        "height": 0.4,
        "width": 0.8,
        "x": 0.1,
        "y": 0.5
       },
       "content": {
        "cell": "97bff783-adcd-4c59-95a1-554eb25b167d",
        "part": "whole"
       },
       "id": "47faee53-9131-4e1e-ac84-8a3f746382db"
      }
     }
    },
    "0b557924-be8b-47e2-964f-0fe3bc4c38b9": {
     "id": "0b557924-be8b-47e2-964f-0fe3bc4c38b9",
     "prev": "f30b2790-c23c-41d5-a0f5-b1e19701be1c",
     "regions": {
      "654913dc-c1ee-470e-bc8c-e1874a0e7c84": {
       "attrs": {
        "height": 0.4,
        "width": 0.8,
        "x": 0.1,
        "y": 0.5
       },
       "content": {
        "cell": "2ab64593-ad62-47cb-b1e4-7f037b610f22",
        "part": "whole"
       },
       "id": "654913dc-c1ee-470e-bc8c-e1874a0e7c84"
      },
      "6d5b6295-9875-42ab-871c-829d4ffab74e": {
       "attrs": {
        "height": 0.4,
        "width": 0.8,
        "x": 0.1,
        "y": 0.5
       },
       "content": {
        "cell": "baf5f06d-9005-47b6-adcd-49a5b9e69428",
        "part": "whole"
       },
       "id": "6d5b6295-9875-42ab-871c-829d4ffab74e"
      },
      "c87399d8-5dc4-4dfb-8b56-ab84974035b3": {
       "attrs": {
        "height": 0.8,
        "width": 0.8,
        "x": 0.1,
        "y": 0.1
       },
       "content": {
        "cell": "5e021261-fc1a-4e54-8e55-e267541bf61a",
        "part": "whole"
       },
       "id": "c87399d8-5dc4-4dfb-8b56-ab84974035b3"
      }
     }
    },
    "1f79cef2-d2be-4246-ba5b-75d68fe921be": {
     "id": "1f79cef2-d2be-4246-ba5b-75d68fe921be",
     "prev": "91a34925-65d8-4cc6-aea8-64fde9be3438",
     "regions": {
      "639d053f-7108-41b4-b3d1-85409d9386b4": {
       "attrs": {
        "height": 0.4,
        "width": 0.8,
        "x": 0.1,
        "y": 0.5
       },
       "content": {
        "cell": "67b90009-9220-4813-b49b-b576136ce7a9",
        "part": "whole"
       },
       "id": "639d053f-7108-41b4-b3d1-85409d9386b4"
      },
      "e0ee405e-3a41-4041-91d8-cf4254c209ee": {
       "attrs": {
        "height": 0.8,
        "width": 0.8,
        "x": 0.1,
        "y": 0.1
       },
       "content": {
        "cell": "5ba92a77-8e3a-4ee6-92e3-84855511220d",
        "part": "whole"
       },
       "id": "e0ee405e-3a41-4041-91d8-cf4254c209ee"
      }
     }
    },
    "3eff7ee8-285d-48b1-97bf-dde3aa9cdd2d": {
     "id": "3eff7ee8-285d-48b1-97bf-dde3aa9cdd2d",
     "prev": "486cb3a1-6234-4ebb-b0aa-a24bad6a9df1",
     "regions": {
      "69509cd3-72bd-4336-8651-cf99fa333dcd": {
       "attrs": {
        "height": 0.4,
        "width": 0.8,
        "x": 0.1,
        "y": 0.5
       },
       "content": {
        "cell": "13404c1e-c573-44f6-b610-0e5ad4bb1a8f",
        "part": "whole"
       },
       "id": "69509cd3-72bd-4336-8651-cf99fa333dcd"
      },
      "fa337b4e-0b50-4581-a20a-00214301657e": {
       "attrs": {
        "height": 0.4,
        "width": 0.8,
        "x": 0.1,
        "y": 0.5
       },
       "content": {
        "cell": "8452ac51-7076-42cb-9e93-d2bde711da71",
        "part": "whole"
       },
       "id": "fa337b4e-0b50-4581-a20a-00214301657e"
      }
     }
    },
    "4129f7bc-cf2f-41b2-9cfe-3ad467d20f4a": {
     "id": "4129f7bc-cf2f-41b2-9cfe-3ad467d20f4a",
     "prev": "0603ff06-3de2-4c52-8534-3c6510ea5aaa",
     "regions": {
      "6d9ce3a4-7345-4d3b-9741-4135308a8066": {
       "attrs": {
        "height": 0.8,
        "width": 0.8,
        "x": 0.1,
        "y": 0.1
       },
       "content": {
        "cell": "b268ced5-4667-4fc3-8adf-e70b15489f15",
        "part": "whole"
       },
       "id": "6d9ce3a4-7345-4d3b-9741-4135308a8066"
      },
      "d829877c-b92b-4bbb-928d-030960d2b103": {
       "attrs": {
        "height": 0.4,
        "width": 0.8,
        "x": 0.1,
        "y": 0.5
       },
       "content": {
        "cell": "b968e47e-d43b-4f11-996c-9196e29308fa",
        "part": "whole"
       },
       "id": "d829877c-b92b-4bbb-928d-030960d2b103"
      },
      "ed1791e9-99f5-4e8d-8000-04adbb878300": {
       "attrs": {
        "height": 0.4,
        "width": 0.8,
        "x": 0.1,
        "y": 0.5
       },
       "content": {
        "cell": "daa2b81b-7db1-44f1-818a-aea10937f922",
        "part": "whole"
       },
       "id": "ed1791e9-99f5-4e8d-8000-04adbb878300"
      },
      "f95e2e79-e008-445c-8731-804c55042dde": {
       "attrs": {
        "height": 0.4,
        "width": 0.8,
        "x": 0.1,
        "y": 0.5
       },
       "content": {
        "cell": "92dd5320-f512-4f5c-a9d7-1a44382de534",
        "part": "whole"
       },
       "id": "f95e2e79-e008-445c-8731-804c55042dde"
      }
     }
    },
    "45274938-7474-496a-b2b0-b2a127f24f62": {
     "id": "45274938-7474-496a-b2b0-b2a127f24f62",
     "prev": "1f79cef2-d2be-4246-ba5b-75d68fe921be",
     "regions": {
      "52121099-a446-4933-b75f-c380cad0e98d": {
       "attrs": {
        "height": 0.8,
        "width": 0.8,
        "x": 0.1,
        "y": 0.1
       },
       "content": {
        "cell": "626c86ca-cc9d-4d98-8aef-b6f61cf780f0",
        "part": "whole"
       },
       "id": "52121099-a446-4933-b75f-c380cad0e98d"
      },
      "76a4ca57-17ea-4dba-804d-49317119eb14": {
       "attrs": {
        "height": 0.4,
        "width": 0.8,
        "x": 0.1,
        "y": 0.5
       },
       "content": {
        "cell": "f770da7a-fdfa-4652-ae6f-467194e64b4c",
        "part": "whole"
       },
       "id": "76a4ca57-17ea-4dba-804d-49317119eb14"
      }
     }
    },
    "486cb3a1-6234-4ebb-b0aa-a24bad6a9df1": {
     "id": "486cb3a1-6234-4ebb-b0aa-a24bad6a9df1",
     "prev": "dc8027f3-2411-4afe-bd1d-9b0ce5eadd6b",
     "regions": {
      "123ec4bf-ba0b-45e9-84b5-7925c92186f2": {
       "attrs": {
        "height": 0.4,
        "width": 0.8,
        "x": 0.1,
        "y": 0.5
       },
       "content": {
        "cell": "738a456d-1f5e-4d2f-8f7e-9cc859013af5",
        "part": "whole"
       },
       "id": "123ec4bf-ba0b-45e9-84b5-7925c92186f2"
      },
      "35f71e1a-0e28-4874-8f62-ec675e98a598": {
       "attrs": {
        "height": 0.8,
        "width": 0.8,
        "x": 0.1,
        "y": 0.1
       },
       "content": {
        "cell": "b72c5bc5-a890-4089-ac4b-2950c6ab76d0",
        "part": "whole"
       },
       "id": "35f71e1a-0e28-4874-8f62-ec675e98a598"
      }
     }
    },
    "76ea5a9b-ea4c-4661-a1c0-2e8c1d5a6069": {
     "id": "76ea5a9b-ea4c-4661-a1c0-2e8c1d5a6069",
     "prev": "3eff7ee8-285d-48b1-97bf-dde3aa9cdd2d",
     "regions": {
      "5c66c838-e912-4346-9a54-b7f8fc91d2a7": {
       "attrs": {
        "height": 0.8,
        "width": 0.8,
        "x": 0.1,
        "y": 0.1
       },
       "content": {
        "cell": "915c44e1-8e41-4fe3-9948-291e4e4013d2",
        "part": "whole"
       },
       "id": "5c66c838-e912-4346-9a54-b7f8fc91d2a7"
      },
      "8a78363b-d084-4ef1-a326-87bad648ac54": {
       "attrs": {
        "height": 0.4,
        "width": 0.8,
        "x": 0.1,
        "y": 0.5
       },
       "content": {
        "cell": "cc9c4c87-fd62-40c0-8c9c-e0a56a9274eb",
        "part": "whole"
       },
       "id": "8a78363b-d084-4ef1-a326-87bad648ac54"
      },
      "8cf5f856-f77f-4c04-8858-0d45be074a2e": {
       "attrs": {
        "height": 0.4,
        "width": 0.8,
        "x": 0.1,
        "y": 0.5
       },
       "content": {
        "cell": "51817bfe-3cf4-4550-b1a6-44b064c2e84d",
        "part": "whole"
       },
       "id": "8cf5f856-f77f-4c04-8858-0d45be074a2e"
      },
      "f0db3ca3-ef81-423f-8959-f9554d631d51": {
       "attrs": {
        "height": 0.4,
        "width": 0.8,
        "x": 0.1,
        "y": 0.5
       },
       "content": {
        "cell": "74ebe033-aacd-450c-9e11-d01f20f7b828",
        "part": "whole"
       },
       "id": "f0db3ca3-ef81-423f-8959-f9554d631d51"
      },
      "f4bc3634-66a9-42b7-95ea-6b811880b48f": {
       "attrs": {
        "height": 0.4,
        "width": 0.8,
        "x": 0.1,
        "y": 0.5
       },
       "content": {
        "cell": "580f454a-797c-488c-8150-5085fa5fb342",
        "part": "whole"
       },
       "id": "f4bc3634-66a9-42b7-95ea-6b811880b48f"
      }
     }
    },
    "91299167-5093-4e2a-a5d7-dda7c291ded5": {
     "id": "91299167-5093-4e2a-a5d7-dda7c291ded5",
     "prev": "76ea5a9b-ea4c-4661-a1c0-2e8c1d5a6069",
     "regions": {
      "1fee8800-a675-4865-958f-b4b0982c6194": {
       "attrs": {
        "height": 0.4,
        "width": 0.8,
        "x": 0.1,
        "y": 0.5
       },
       "content": {
        "cell": "adcf04eb-e7bd-4bed-a8dd-bfed542b9375",
        "part": "whole"
       },
       "id": "1fee8800-a675-4865-958f-b4b0982c6194"
      },
      "efe5b350-31eb-4de2-ac0d-d69319c46044": {
       "attrs": {
        "height": 0.8,
        "width": 0.8,
        "x": 0.1,
        "y": 0.1
       },
       "content": {
        "cell": "24bcbcba-ba94-4720-80a8-5b71bd767b77",
        "part": "whole"
       },
       "id": "efe5b350-31eb-4de2-ac0d-d69319c46044"
      },
      "f029d610-412e-4ac0-96d7-673f69c81f98": {
       "attrs": {
        "height": 0.4,
        "width": 0.8,
        "x": 0.1,
        "y": 0.5
       },
       "content": {
        "cell": "6a6441a6-7a8f-4f9b-aa52-84d168ca5cbc",
        "part": "whole"
       },
       "id": "f029d610-412e-4ac0-96d7-673f69c81f98"
      }
     }
    },
    "91a34925-65d8-4cc6-aea8-64fde9be3438": {
     "id": "91a34925-65d8-4cc6-aea8-64fde9be3438",
     "prev": "e699066e-ed36-4611-b63a-81a7192f0b75",
     "regions": {
      "ae411987-9140-46b5-9045-dd8665c5093f": {
       "attrs": {
        "height": 1,
        "width": 1,
        "x": 0,
        "y": 0
       },
       "id": "ae411987-9140-46b5-9045-dd8665c5093f"
      }
     }
    },
    "aefbb624-a81c-4d6e-bee9-f8c394d857f1": {
     "id": "aefbb624-a81c-4d6e-bee9-f8c394d857f1",
     "prev": "d486ee1a-fc11-44ae-ba88-eb38e10de792",
     "regions": {
      "11d85b9f-4da5-43be-b060-0b81d5eb8ecd": {
       "attrs": {
        "height": 0.4,
        "width": 0.8,
        "x": 0.1,
        "y": 0.5
       },
       "content": {
        "cell": "244bb617-502a-400a-83f2-6cb16c4cfbde",
        "part": "whole"
       },
       "id": "11d85b9f-4da5-43be-b060-0b81d5eb8ecd"
      },
      "1c560d3f-2c90-4f72-9a09-185569f30cf9": {
       "attrs": {
        "height": 0.4,
        "width": 0.8,
        "x": 0.1,
        "y": 0.5
       },
       "content": {
        "cell": "56898292-49dd-43a6-9af0-de0928804471",
        "part": "whole"
       },
       "id": "1c560d3f-2c90-4f72-9a09-185569f30cf9"
      },
      "34c4e25e-e792-4e86-88d2-4a2efdbd7f0d": {
       "attrs": {
        "height": 0.4,
        "width": 0.8,
        "x": 0.1,
        "y": 0.5
       },
       "content": {
        "cell": "8f1ac627-9255-477b-bafa-cfa7a431140d",
        "part": "whole"
       },
       "id": "34c4e25e-e792-4e86-88d2-4a2efdbd7f0d"
      },
      "474b30fa-c575-4a1e-8c32-0758976c716f": {
       "attrs": {
        "height": 0.4,
        "width": 0.8,
        "x": 0.1,
        "y": 0.5
       },
       "content": {
        "cell": "92c40eb8-2391-460b-a6eb-19581e22049e",
        "part": "whole"
       },
       "id": "474b30fa-c575-4a1e-8c32-0758976c716f"
      },
      "6830fb2d-37a9-4e48-b08e-a5e653865d0d": {
       "attrs": {
        "height": 0.4,
        "width": 0.8,
        "x": 0.1,
        "y": 0.5
       },
       "content": {
        "cell": "f354e7ed-b787-461b-aca5-c3856e2e2af1",
        "part": "whole"
       },
       "id": "6830fb2d-37a9-4e48-b08e-a5e653865d0d"
      },
      "6cd5146f-7ff8-4b18-a3f6-6dd0c17790aa": {
       "attrs": {
        "height": 0.4,
        "width": 0.8,
        "x": 0.1,
        "y": 0.5
       },
       "content": {
        "cell": "6ddb00b2-75aa-4c4b-9c5c-c3f1b39472e6",
        "part": "whole"
       },
       "id": "6cd5146f-7ff8-4b18-a3f6-6dd0c17790aa"
      },
      "7601d69e-8d7d-4803-945d-e9dcbf415787": {
       "attrs": {
        "height": 0.4,
        "width": 0.8,
        "x": 0.1,
        "y": 0.5
       },
       "content": {
        "cell": "c56ef402-5290-4f1c-ac17-7406b2f2bc5d",
        "part": "whole"
       },
       "id": "7601d69e-8d7d-4803-945d-e9dcbf415787"
      },
      "8e0723ad-4009-48d0-9772-f83476b4be17": {
       "attrs": {
        "height": 0.4,
        "width": 0.8,
        "x": 0.1,
        "y": 0.5
       },
       "content": {
        "cell": "3067e4b1-ae5a-41e2-917a-8d6aca774564",
        "part": "whole"
       },
       "id": "8e0723ad-4009-48d0-9772-f83476b4be17"
      },
      "921649e8-4531-4b38-be30-f73d8fecf290": {
       "attrs": {
        "height": 0.8,
        "width": 0.8,
        "x": 0.1,
        "y": 0.1
       },
       "content": {
        "cell": "af5467bd-da80-4e46-9a72-7a45c11838e0",
        "part": "whole"
       },
       "id": "921649e8-4531-4b38-be30-f73d8fecf290"
      },
      "9a72951b-9d1c-47eb-b518-b96a8202bd93": {
       "attrs": {
        "height": 0.4,
        "width": 0.8,
        "x": 0.1,
        "y": 0.5
       },
       "content": {
        "cell": "4a5cbb7d-c641-4531-b3ab-802bbbf98df3",
        "part": "whole"
       },
       "id": "9a72951b-9d1c-47eb-b518-b96a8202bd93"
      },
      "9af4a7e5-5d98-4255-97b5-6d243eb44d68": {
       "attrs": {
        "height": 0.4,
        "width": 0.8,
        "x": 0.1,
        "y": 0.5
       },
       "content": {
        "cell": "9d4adc6f-cd3f-42dd-8d82-f56a7d110efb",
        "part": "whole"
       },
       "id": "9af4a7e5-5d98-4255-97b5-6d243eb44d68"
      },
      "c5dae8f4-74d4-4079-97fd-f5abc117e8a4": {
       "attrs": {
        "height": 0.4,
        "width": 0.8,
        "x": 0.1,
        "y": 0.5
       },
       "content": {
        "cell": "edb8ce7a-ef2e-40f7-bbd6-df3d992108e2",
        "part": "whole"
       },
       "id": "c5dae8f4-74d4-4079-97fd-f5abc117e8a4"
      },
      "d1ea0796-a2a9-4c8e-b282-92bade9a2e17": {
       "attrs": {
        "height": 0.4,
        "width": 0.8,
        "x": 0.1,
        "y": 0.5
       },
       "content": {
        "cell": "5fd5fc91-765b-43ba-bf93-9439d8d14def",
        "part": "whole"
       },
       "id": "d1ea0796-a2a9-4c8e-b282-92bade9a2e17"
      },
      "d2be5c2d-c41a-404e-9979-d6530d07559b": {
       "attrs": {
        "height": 0.4,
        "width": 0.8,
        "x": 0.1,
        "y": 0.5
       },
       "content": {
        "cell": "72b3fd3a-f98a-4df9-a58e-7aa27c70ff1b",
        "part": "whole"
       },
       "id": "d2be5c2d-c41a-404e-9979-d6530d07559b"
      }
     }
    },
    "ca4b6c75-28f1-4c03-8582-d1d23a3f10eb": {
     "id": "ca4b6c75-28f1-4c03-8582-d1d23a3f10eb",
     "prev": "0b557924-be8b-47e2-964f-0fe3bc4c38b9",
     "regions": {
      "4a9eb916-535c-478a-90a6-23932346a400": {
       "attrs": {
        "height": 0.4,
        "width": 0.8,
        "x": 0.1,
        "y": 0.5
       },
       "content": {
        "cell": "9592badb-b337-4aab-8801-0085e5476241",
        "part": "whole"
       },
       "id": "4a9eb916-535c-478a-90a6-23932346a400"
      },
      "8b99cb23-f046-4a79-9d62-5f915ec1fa41": {
       "attrs": {
        "height": 0.4,
        "width": 0.8,
        "x": 0.1,
        "y": 0.5
       },
       "content": {
        "cell": "98332b46-82af-4092-993f-f11cf9be78f1",
        "part": "whole"
       },
       "id": "8b99cb23-f046-4a79-9d62-5f915ec1fa41"
      },
      "904f117c-510e-4942-9325-a9e96566a888": {
       "attrs": {
        "height": 0.4,
        "width": 0.8,
        "x": 0.1,
        "y": 0.5
       },
       "content": {
        "cell": "42e26e9a-b3b5-4c5e-a057-a56e564fd206",
        "part": "whole"
       },
       "id": "904f117c-510e-4942-9325-a9e96566a888"
      },
      "c84dea4f-4fab-4a1c-80bc-c60e30e803f9": {
       "attrs": {
        "height": 0.8,
        "width": 0.8,
        "x": 0.1,
        "y": 0.1
       },
       "content": {
        "cell": "742ea1ce-a765-4e3b-bce1-8100c7c11456",
        "part": "whole"
       },
       "id": "c84dea4f-4fab-4a1c-80bc-c60e30e803f9"
      }
     }
    },
    "d486ee1a-fc11-44ae-ba88-eb38e10de792": {
     "id": "d486ee1a-fc11-44ae-ba88-eb38e10de792",
     "prev": "efb98165-40e6-4464-b9a1-383275c21a2a",
     "regions": {
      "564b2e37-fa99-46be-b25a-72945524d9a7": {
       "attrs": {
        "height": 0.8,
        "width": 0.8,
        "x": 0.1,
        "y": 0.1
       },
       "content": {
        "cell": "d1799a0a-1e4f-4d32-b226-7e8671be8392",
        "part": "whole"
       },
       "id": "564b2e37-fa99-46be-b25a-72945524d9a7"
      },
      "8a01aa79-ce6a-4ac9-b5bb-71b8f898049d": {
       "attrs": {
        "height": 0.4,
        "width": 0.8,
        "x": 0.1,
        "y": 0.5
       },
       "content": {
        "cell": "0f6c4409-303f-416f-a067-000082251920",
        "part": "whole"
       },
       "id": "8a01aa79-ce6a-4ac9-b5bb-71b8f898049d"
      },
      "c5b433bb-d4fb-472f-b9fc-959263f68738": {
       "attrs": {
        "height": 0.4,
        "width": 0.8,
        "x": 0.1,
        "y": 0.5
       },
       "content": {
        "cell": "ac564542-8665-4257-9dac-cfe7191bf4bc",
        "part": "whole"
       },
       "id": "c5b433bb-d4fb-472f-b9fc-959263f68738"
      }
     }
    },
    "dc8027f3-2411-4afe-bd1d-9b0ce5eadd6b": {
     "id": "dc8027f3-2411-4afe-bd1d-9b0ce5eadd6b",
     "prev": "ca4b6c75-28f1-4c03-8582-d1d23a3f10eb",
     "regions": {
      "d48b46a7-84bd-403b-a10b-2ef1575d1af4": {
       "attrs": {
        "height": 0.8,
        "width": 0.8,
        "x": 0.1,
        "y": 0.1
       },
       "content": {
        "cell": "d54d2f29-1566-471a-827b-62b9e27f97f5",
        "part": "whole"
       },
       "id": "d48b46a7-84bd-403b-a10b-2ef1575d1af4"
      }
     }
    },
    "e699066e-ed36-4611-b63a-81a7192f0b75": {
     "id": "e699066e-ed36-4611-b63a-81a7192f0b75",
     "prev": null,
     "regions": {}
    },
    "efb98165-40e6-4464-b9a1-383275c21a2a": {
     "id": "efb98165-40e6-4464-b9a1-383275c21a2a",
     "prev": "4129f7bc-cf2f-41b2-9cfe-3ad467d20f4a",
     "regions": {
      "5c1bd139-9410-47ff-813c-b965f41a9eb1": {
       "attrs": {
        "height": 0.8,
        "width": 0.8,
        "x": 0.1,
        "y": 0.1
       },
       "content": {
        "cell": "4ead39f3-c007-490b-a610-3e6c15076775",
        "part": "whole"
       },
       "id": "5c1bd139-9410-47ff-813c-b965f41a9eb1"
      },
      "5d3255d9-ac11-43d9-a408-800aca123f9d": {
       "attrs": {
        "height": 0.4,
        "width": 0.8,
        "x": 0.1,
        "y": 0.5
       },
       "content": {
        "cell": "6f9f248c-91a4-4572-8eb1-faf675ceb044",
        "part": "whole"
       },
       "id": "5d3255d9-ac11-43d9-a408-800aca123f9d"
      }
     }
    },
    "f30b2790-c23c-41d5-a0f5-b1e19701be1c": {
     "id": "f30b2790-c23c-41d5-a0f5-b1e19701be1c",
     "prev": "45274938-7474-496a-b2b0-b2a127f24f62",
     "regions": {
      "01110572-2099-47d9-886a-ec9d2768be53": {
       "attrs": {
        "height": 0.8,
        "width": 0.8,
        "x": 0.1,
        "y": 0.1
       },
       "content": {
        "cell": "d769edf3-d2c3-4c51-b2ae-1b3d7f181a67",
        "part": "whole"
       },
       "id": "01110572-2099-47d9-886a-ec9d2768be53"
      },
      "3b18f9b6-0e9f-4cfb-bff3-48ead692bb9c": {
       "attrs": {
        "height": 0.4,
        "width": 0.8,
        "x": 0.1,
        "y": 0.5
       },
       "content": {
        "cell": "bcbc3869-76e5-4ab5-9582-b255b33a5ac9",
        "part": "whole"
       },
       "id": "3b18f9b6-0e9f-4cfb-bff3-48ead692bb9c"
      },
      "4ee61a97-1b2d-4574-9d8f-fe7dff68a0e4": {
       "attrs": {
        "height": 0.4,
        "width": 0.8,
        "x": 0.1,
        "y": 0.5
       },
       "content": {
        "cell": "cf89cdb9-c254-4b0b-8ce0-01797b63c5a9",
        "part": "whole"
       },
       "id": "4ee61a97-1b2d-4574-9d8f-fe7dff68a0e4"
      },
      "781bf00e-4131-4cd9-aad2-c77f6f02549a": {
       "attrs": {
        "height": 0.4,
        "width": 0.8,
        "x": 0.1,
        "y": 0.5
       },
       "content": {
        "cell": "61ae5307-5502-4657-89c5-dda61375decd",
        "part": "whole"
       },
       "id": "781bf00e-4131-4cd9-aad2-c77f6f02549a"
      }
     }
    }
   },
   "themes": {
    "default": "9640a350-3369-4554-93df-a1eb80b7b024",
    "theme": {
     "2d418403-4e00-4155-9936-01395c99c13f": {
      "backgrounds": {
       "dc7afa04-bf90-40b1-82a5-726e3cff5267": {
        "background-color": "31af15d2-7e15-44c5-ab5e-e04b16a89eff",
        "id": "dc7afa04-bf90-40b1-82a5-726e3cff5267"
       }
      },
      "id": "2d418403-4e00-4155-9936-01395c99c13f",
      "palette": {
       "19cc588f-0593-49c9-9f4b-e4d7cc113b1c": {
        "id": "19cc588f-0593-49c9-9f4b-e4d7cc113b1c",
        "rgb": [
         252,
         252,
         252
        ]
       },
       "31af15d2-7e15-44c5-ab5e-e04b16a89eff": {
        "id": "31af15d2-7e15-44c5-ab5e-e04b16a89eff",
        "rgb": [
         68,
         68,
         68
        ]
       },
       "50f92c45-a630-455b-aec3-788680ec7410": {
        "id": "50f92c45-a630-455b-aec3-788680ec7410",
        "rgb": [
         197,
         226,
         245
        ]
       },
       "c5cc3653-2ee1-402a-aba2-7caae1da4f6c": {
        "id": "c5cc3653-2ee1-402a-aba2-7caae1da4f6c",
        "rgb": [
         43,
         126,
         184
        ]
       },
       "efa7f048-9acb-414c-8b04-a26811511a21": {
        "id": "efa7f048-9acb-414c-8b04-a26811511a21",
        "rgb": [
         25.118061674008803,
         73.60176211453744,
         107.4819383259912
        ]
       }
      },
      "rules": {
       "a": {
        "color": "19cc588f-0593-49c9-9f4b-e4d7cc113b1c"
       },
       "blockquote": {
        "color": "50f92c45-a630-455b-aec3-788680ec7410",
        "font-size": 3
       },
       "code": {
        "font-family": "Anonymous Pro"
       },
       "h1": {
        "color": "19cc588f-0593-49c9-9f4b-e4d7cc113b1c",
        "font-family": "Merriweather",
        "font-size": 8
       },
       "h2": {
        "color": "19cc588f-0593-49c9-9f4b-e4d7cc113b1c",
        "font-family": "Merriweather",
        "font-size": 6
       },
       "h3": {
        "color": "50f92c45-a630-455b-aec3-788680ec7410",
        "font-family": "Lato",
        "font-size": 5.5
       },
       "h4": {
        "color": "c5cc3653-2ee1-402a-aba2-7caae1da4f6c",
        "font-family": "Lato",
        "font-size": 5
       },
       "h5": {
        "font-family": "Lato"
       },
       "h6": {
        "font-family": "Lato"
       },
       "h7": {
        "font-family": "Lato"
       },
       "li": {
        "color": "50f92c45-a630-455b-aec3-788680ec7410",
        "font-size": 3.25
       },
       "pre": {
        "font-family": "Anonymous Pro",
        "font-size": 4
       }
      },
      "text-base": {
       "color": "19cc588f-0593-49c9-9f4b-e4d7cc113b1c",
       "font-family": "Lato",
       "font-size": 4
      }
     }
    }
   }
  }
 },
 "nbformat": 4,
 "nbformat_minor": 0
}
